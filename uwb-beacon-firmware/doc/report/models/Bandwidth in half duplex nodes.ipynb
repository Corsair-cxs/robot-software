{
 "cells": [
  {
   "cell_type": "markdown",
   "metadata": {},
   "source": [
    "# Some bandwidth calculations\n",
    "\n",
    "source: Hongler's class\n",
    "\n",
    "The goal of this chapter is to find out how much packets we can push around, to try and estimate how much ranging sequences we can do per second.\n",
    "\n",
    "The biggest issue when doing communication is that the radio communication system we use is half duplex: as every node wants to transmit or receive on the same medium (same frequency), two nodes cannot communicate at the same time in any direction. This also means that collisions can occur and will invalidate any communications happening at the same time. Therefore, we need to evaluate the likelihood of such interferences.\n",
    "\n",
    "We start by assuming that the probability of a packet transmission by a node in an interval $t$ is given by a memoryless law:\n",
    "\n",
    "\\begin{equation}\n",
    "f(t) = \\lambda e^{-\\lambda t}\n",
    "\\end{equation}\n",
    "\n",
    "We note $\\lambda$ the average time between two ranging measurements and $\\mu$ the average time it takes for a full measurement sequence to complete.\n",
    "\n",
    "One good approximation can be given by the M/M/1 queuing theory framework. Of course this is a bit simplistic, as the shared medium cannot hold ininitely many customers. We first start by computing the load factor $\\rho = \\frac{\\lambda}{\\mu}$.\n",
    "\n",
    "From M/M/1, we know that $p_n = (1 - \\rho) \\rho^n$ is the probability of having $n$ ranging transactions at the same time. We are interested in the probability of having $n > 1$, as this creates a collision.\n",
    "\n",
    "\\begin{eqnarray}\n",
    "p(n>1) &=& 1 - p_0 - p_1 \\\\\n",
    "       &=& 1 - (1 - \\rho) (1 + \\rho)\n",
    "\\end{eqnarray}\n",
    "\n",
    "The rate of successful measurements ($\\lambda'$) is given by the rate of measurement attemps multiplied by the success rate:\n",
    "\n",
    "\\begin{equation}\n",
    "\\lambda' = \\lambda \\cdot (1 - p(n>1))\n",
    "\\end{equation}"
   ]
  },
  {
   "cell_type": "code",
   "execution_count": 1,
   "metadata": {},
   "outputs": [],
   "source": [
    "import sympy as sp\n",
    "import numpy as np\n",
    "import matplotlib.pyplot as plt\n",
    "sp.init_printing()\n",
    "%matplotlib inline"
   ]
  },
  {
   "cell_type": "code",
   "execution_count": 2,
   "metadata": {},
   "outputs": [],
   "source": [
    "initiate_rate, completion_rate = sp.symbols('lambda mu')\n",
    "rho = initiate_rate / completion_rate"
   ]
  },
  {
   "cell_type": "code",
   "execution_count": 3,
   "metadata": {},
   "outputs": [
    {
     "data": {
      "image/png": "[encoded data removed]",
      "text/latex": [
       "$$\\left [ - \\frac{\\sqrt{3} \\mu}{3}, \\quad \\frac{\\sqrt{3} \\mu}{3}\\right ]$$"
      ],
      "text/plain": [
       "⎡-√3⋅μ   √3⋅μ⎤\n",
       "⎢──────, ────⎥\n",
       "⎣  3      3  ⎦"
      ]
     },
     "execution_count": 3,
     "metadata": {},
     "output_type": "execute_result"
    }
   ],
   "source": [
    "p_collision = 1 - (1 - rho) - (1 - rho) * rho\n",
    "real_rate = (1 - p_collision) * initiate_rate\n",
    "optimal_rate = sp.solve(sp.diff(real_rate, initiate_rate), initiate_rate)\n",
    "optimal_rate"
   ]
  },
  {
   "cell_type": "code",
   "execution_count": 15,
   "metadata": {},
   "outputs": [
    {
     "name": "stdout",
     "output_type": "stream",
     "text": [
      "0.005 115.470053838 76.980035892\n",
      "0.01 57.735026919 38.490017946\n",
      "0.03 19.245008973 12.830005982\n"
     ]
    },
    {
     "data": {
      "image/png": "[encoded data removed]",
      "text/plain": [
       "<matplotlib.figure.Figure at 0x10b25e3c8>"
      ]
     },
     "metadata": {},
     "output_type": "display_data"
    }
   ],
   "source": [
    "real_rate_num = sp.lambdify([initiate_rate, completion_rate], real_rate)\n",
    "durations = [5e-3, 10e-3, 30e-3]\n",
    "legends = ['{} ms'.format(int(i * 1000)) for i in durations]\n",
    "for measurement_sequence_duration in durations:\n",
    "    f = lambda x: real_rate_num(x, 1 / measurement_sequence_duration)\n",
    "    rates = np.logspace(0, 3, 1000)\n",
    "    plt.loglog(rates, f(rates))\n",
    "    optimal = 1 / (np.sqrt(3) * measurement_sequence_duration)\n",
    "    print(measurement_sequence_duration, optimal,  f(optimal))\n",
    "\n",
    "plt.xlabel('Distance measurement attempts rate $\\lambda$ (Hz)')\n",
    "plt.ylabel('Successful measurements $\\lambda\\'$ (Hz)')\n",
    "#plt.title('Measurement rates for various measurements sequence duration')\n",
    "plt.legend(legends)\n",
    "plt.grid()\n",
    "plt.savefig('measurement_rate.pdf')"
   ]
  },
  {
   "cell_type": "code",
   "execution_count": null,
   "metadata": {},
   "outputs": [],
   "source": []
  }
 ],
 "metadata": {
  "kernelspec": {
   "display_name": "Python 3",
   "language": "python",
   "name": "python3"
  },
  "language_info": {
   "codemirror_mode": {
    "name": "ipython",
    "version": 3
   },
   "file_extension": ".py",
   "mimetype": "text/x-python",
   "name": "python",
   "nbconvert_exporter": "python",
   "pygments_lexer": "ipython3",
   "version": "3.6.2"
  }
 },
 "nbformat": 4,
 "nbformat_minor": 2
}
