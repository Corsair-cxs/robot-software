{
 "cells": [
  {
   "cell_type": "code",
   "execution_count": 1,
   "metadata": {},
   "outputs": [],
   "source": [
    "# Initialize jupyter\n",
    "%matplotlib inline\n",
    "import matplotlib.pyplot as plt\n",
    "from mpl_toolkits.mplot3d import Axes3D\n",
    "from sympy import *\n",
    "import numpy as np\n",
    "import pylab\n",
    "init_printing()"
   ]
  },
  {
   "cell_type": "markdown",
   "metadata": {},
   "source": [
    "# Forward kinematics"
   ]
  },
  {
   "cell_type": "code",
   "execution_count": 3,
   "metadata": {},
   "outputs": [],
   "source": [
    "l1, l2, l3 = symbols('l_1 l_2 l_3', real=True)\n",
    "alpha, beta, gamma, delta = symbols('alpha beta gamma delta', real=True)"
   ]
  },
  {
   "cell_type": "code",
   "execution_count": 5,
   "metadata": {},
   "outputs": [],
   "source": [
    "# alpha = q1\n",
    "# beta = q2\n",
    "q1 = alpha\n",
    "q2 = beta\n",
    "\n",
    "x = l1 * cos(alpha) + l2 * cos(alpha + beta)\n",
    "y = l1 * sin(alpha) + l2 * sin(alpha + beta)"
   ]
  },
  {
   "cell_type": "code",
   "execution_count": 6,
   "metadata": {},
   "outputs": [
    {
     "data": {
      "text/latex": [
       "$$\\left[\\begin{matrix}l_{1} \\cos{\\left (\\alpha \\right )} + l_{2} \\cos{\\left (\\alpha + \\beta \\right )}\\\\l_{1} \\sin{\\left (\\alpha \\right )} + l_{2} \\sin{\\left (\\alpha + \\beta \\right )}\\end{matrix}\\right]$$"
      ],
      "text/plain": [
       "⎡l₁⋅cos(α) + l₂⋅cos(α + β)⎤\n",
       "⎢                         ⎥\n",
       "⎣l₁⋅sin(α) + l₂⋅sin(α + β)⎦"
      ]
     },
     "execution_count": 6,
     "metadata": {},
     "output_type": "execute_result"
    }
   ],
   "source": [
    "P = Matrix([x, y])\n",
    "P"
   ]
  },
  {
   "cell_type": "code",
   "execution_count": 7,
   "metadata": {},
   "outputs": [
    {
     "data": {
      "text/latex": [
       "$$\\left[\\begin{matrix}- l_{1} \\sin{\\left (\\alpha \\right )} - l_{2} \\sin{\\left (\\alpha + \\beta \\right )} & - l_{2} \\sin{\\left (\\alpha + \\beta \\right )}\\\\l_{1} \\cos{\\left (\\alpha \\right )} + l_{2} \\cos{\\left (\\alpha + \\beta \\right )} & l_{2} \\cos{\\left (\\alpha + \\beta \\right )}\\end{matrix}\\right]$$"
      ],
      "text/plain": [
       "⎡-l₁⋅sin(α) - l₂⋅sin(α + β)  -l₂⋅sin(α + β)⎤\n",
       "⎢                                          ⎥\n",
       "⎣l₁⋅cos(α) + l₂⋅cos(α + β)   l₂⋅cos(α + β) ⎦"
      ]
     },
     "execution_count": 7,
     "metadata": {},
     "output_type": "execute_result"
    }
   ],
   "source": [
    "J = P.jacobian([alpha, beta])\n",
    "J"
   ]
  },
  {
   "cell_type": "code",
   "execution_count": 8,
   "metadata": {},
   "outputs": [],
   "source": [
    "# Convert the Jacobian to a numerical version\n",
    "Jnum = lambdify((alpha, beta, l1, l2), J, 'numpy')"
   ]
  },
  {
   "cell_type": "code",
   "execution_count": 9,
   "metadata": {},
   "outputs": [],
   "source": [
    "# Evaluate the jacobian around singularity, in normal working regime and define a force vector\n",
    "Jnormal = Jnum(0.230, -0.2, 86, 72)\n",
    "Jsingular = Jnum(1e-3, 1e-3, 86, 72)\n",
    "F = np.array([1, 0])"
   ]
  },
  {
   "cell_type": "markdown",
   "metadata": {},
   "source": [
    "# Jacobian Inverse method\n",
    "\n",
    "According to Buss (2009) this sucks big times"
   ]
  },
  {
   "cell_type": "code",
   "execution_count": 10,
   "metadata": {},
   "outputs": [],
   "source": [
    "JI = lambda J, F: np.linalg.inv(J) @ F"
   ]
  },
  {
   "cell_type": "code",
   "execution_count": 11,
   "metadata": {},
   "outputs": [
    {
     "data": {
      "text/plain": [
       "array([-0.05850261,  0.12657122])"
      ]
     },
     "execution_count": 11,
     "metadata": {},
     "output_type": "execute_result"
    }
   ],
   "source": [
    "JI(Jnormal, F)"
   ]
  },
  {
   "cell_type": "code",
   "execution_count": 12,
   "metadata": {},
   "outputs": [
    {
     "data": {
      "text/plain": [
       "array([ 11.62788566, -25.51676992])"
      ]
     },
     "execution_count": 12,
     "metadata": {},
     "output_type": "execute_result"
    }
   ],
   "source": [
    "JI(Jsingular, F)"
   ]
  },
  {
   "cell_type": "code",
   "execution_count": 13,
   "metadata": {},
   "outputs": [
    {
     "name": "stdout",
     "output_type": "stream",
     "text": [
      "24.2654911349\n",
      "4868.86265519\n"
     ]
    }
   ],
   "source": [
    "# Here is why it is a problem: the condition number of the matrix gets huge around the singularity:\n",
    "print(np.linalg.cond(Jnormal))\n",
    "print(np.linalg.cond(Jsingular))"
   ]
  },
  {
   "cell_type": "markdown",
   "metadata": {
    "collapsed": true
   },
   "source": [
    "# Dampled least square\n",
    "\n",
    "This should be a bit better around oscillations"
   ]
  },
  {
   "cell_type": "code",
   "execution_count": 20,
   "metadata": {},
   "outputs": [],
   "source": [
    "DLS_damp = lambda J, F, damping: J.T @ np.linalg.inv((J @ J.T + damping ** 2 * np.eye(2))) @ F"
   ]
  },
  {
   "cell_type": "code",
   "execution_count": 21,
   "metadata": {
    "scrolled": true
   },
   "outputs": [
    {
     "data": {
      "text/plain": [
       "Text(0.5,1,'Torque error for DLS')"
      ]
     },
     "execution_count": 21,
     "metadata": {},
     "output_type": "execute_result"
    },
    {
     "data": {
      "image/png": "[encoded data removed]",
      "text/plain": [
       "<matplotlib.figure.Figure at 0x7f09e2a6c978>"
      ]
     },
     "metadata": {},
     "output_type": "display_data"
    }
   ],
   "source": [
    "Damping = np.logspace(-2, 1, num=100)\n",
    "err_sing = lambda l: np.linalg.norm(Jsingular @ DLS_damp(Jsingular, F, l) - F)\n",
    "err_norm = lambda l: np.linalg.norm(Jnormal @ DLS_damp(Jnormal, F, l) - F)\n",
    "\n",
    "plt.semilogx(Damping, np.array([err_sing(s) for s in Damping]))\n",
    "plt.semilogx(Damping, np.array([err_norm(s) for s in Damping]))\n",
    "plt.legend(['Singularity', 'Normal'])\n",
    "plt.xlabel('Damping ($\\lambda$)')\n",
    "plt.ylabel('Error')\n",
    "plt.title('Torque error for DLS')"
   ]
  },
  {
   "cell_type": "markdown",
   "metadata": {},
   "source": [
    "# Comparison of results"
   ]
  },
  {
   "cell_type": "code",
   "execution_count": 24,
   "metadata": {
    "scrolled": true
   },
   "outputs": [
    {
     "name": "stdout",
     "output_type": "stream",
     "text": [
      "0.24989705376\n"
     ]
    },
    {
     "data": {
      "text/plain": [
       "Text(0.5,1,'Torque around singularity, $\\\\lambda = 2.0$')"
      ]
     },
     "execution_count": 24,
     "metadata": {},
     "output_type": "execute_result"
    },
    {
     "data": {
      "image/png": "[encoded data removed]",
      "text/plain": [
       "<matplotlib.figure.Figure at 0x7f09e08a1588>"
      ]
     },
     "metadata": {},
     "output_type": "display_data"
    }
   ],
   "source": [
    "damping = 2\n",
    "DLS = lambda J, F: J.T @ np.linalg.inv((J @ J.T + damping ** 2 * np.eye(2))) @ F\n",
    "Beta = np.linspace(0.00, 2 * 3.14, num=1000)\n",
    "\n",
    "def JI_safe(J, F):\n",
    "    try:\n",
    "        return JI(J, F)\n",
    "    except:\n",
    "        return float('nan')\n",
    "    \n",
    "torque_JI = lambda beta: np.linalg.norm(JI_safe(Jnum(0, beta, 100, 100), F))\n",
    "torque_JI = np.vectorize(torque_JI)\n",
    "\n",
    "torque_DLS = lambda beta: np.linalg.norm(DLS(Jnum(0, beta, 100, 100), F))\n",
    "torque_DLS = np.vectorize(torque_DLS)\n",
    "\n",
    "plt.semilogy(Beta, np.array([torque_JI(b) for b in Beta]))\n",
    "plt.semilogy(Beta, np.array([torque_DLS(b) for b in Beta]))\n",
    "\n",
    "print(np.max(np.array([torque_DLS(b) for b in Beta])))\n",
    "\n",
    "plt.legend(('JI', 'DLS'))\n",
    "plt.xlabel('Elbow angle ($\\\\beta$)')\n",
    "plt.ylabel('Torque')\n",
    "#plt.ylim(-0.1, 1)\n",
    "plt.title('Torque around singularity, $\\\\lambda = {:.1f}$'.format(damping))"
   ]
  },
  {
   "cell_type": "markdown",
   "metadata": {},
   "source": [
    "# Useful numerical values for testing"
   ]
  },
  {
   "cell_type": "code",
   "execution_count": 28,
   "metadata": {},
   "outputs": [
    {
     "data": {
      "text/plain": [
       "array([-0.04867114,  0.07751386])"
      ]
     },
     "execution_count": 28,
     "metadata": {},
     "output_type": "execute_result"
    }
   ],
   "source": [
    "DLS(Jnum(0.2, -0.2, 100, 200), np.array([1, 1]))"
   ]
  },
  {
   "cell_type": "code",
   "execution_count": 29,
   "metadata": {},
   "outputs": [
    {
     "data": {
      "text/plain": [
       "array([ 0.00076903,  0.00384607])"
      ]
     },
     "execution_count": 29,
     "metadata": {},
     "output_type": "execute_result"
    }
   ],
   "source": [
    "DLS(Jnum(0.2e-3, -0.2e-3, 100, 200), np.array([1, 1]))"
   ]
  },
  {
   "cell_type": "markdown",
   "metadata": {},
   "source": [
    "# References\n",
    "Buss, S. R. Introduction to inverse kinematics with jacobian transpose, pseudoinverse and damped least squares methods, 2009. Typeset manuscript from: http://math.ucsd.edu/~sbuss/ResearchWeb."
   ]
  }
 ],
 "metadata": {
  "kernelspec": {
   "display_name": "Python 3",
   "language": "python",
   "name": "python3"
  },
  "language_info": {
   "codemirror_mode": {
    "name": "ipython",
    "version": 3
   },
   "file_extension": ".py",
   "mimetype": "text/x-python",
   "name": "python",
   "nbconvert_exporter": "python",
   "pygments_lexer": "ipython3",
   "version": "3.5.3"
  }
 },
 "nbformat": 4,
 "nbformat_minor": 2
}
