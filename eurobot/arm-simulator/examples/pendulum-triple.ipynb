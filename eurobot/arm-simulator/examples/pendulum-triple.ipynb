{
 "cells": [
  {
   "cell_type": "code",
   "execution_count": null,
   "metadata": {},
   "outputs": [],
   "source": [
    "%matplotlib inline\n",
    "from IPython.display import HTML\n",
    "import matplotlib.animation\n",
    "import matplotlib.pyplot as plt\n",
    "\n",
    "from arm_simulator.hamilton import System\n",
    "import autograd.numpy as np"
   ]
  },
  {
   "cell_type": "code",
   "execution_count": null,
   "metadata": {},
   "outputs": [],
   "source": [
    "EARTH_GRAVITY_CONSTANT = 9.81  # m/s^2\n",
    "l = [2.0, 1.0, 0.5]\n",
    "mass = 0.42\n",
    "\n",
    "f = lambda q: np.array([\n",
    "        l[0] * np.sin(q[0]),\n",
    "        - l[0] * np.cos(q[0]),\n",
    "        l[0] * np.sin(q[0]) + l[1] * np.sin(q[0] + q[1]),\n",
    "        - l[0] * np.cos(q[0]) - l[1] * np.cos(q[0] + q[1]),\n",
    "        l[0] * np.sin(q[0]) + l[1] * np.sin(q[0] + q[1]) + l[2] * np.sin(q[0] + q[1] + q[2]),\n",
    "        - l[0] * np.cos(q[0]) - l[1] * np.cos(q[0] + q[1]) - l[2] * np.cos(q[0] + q[1] + q[2]),\n",
    "    ])\n",
    "M = mass * np.eye(6)\n",
    "U = lambda q: mass * EARTH_GRAVITY_CONSTANT * f(q)[1]\n",
    "\n",
    "pendulum = System(f, M, U)\n",
    "\n",
    "dt = 0.1\n",
    "ts = [0]\n",
    "pendulum.reset(np.asarray([1.0, 0.0, 0.0]), np.asarray([0.0, 0.0, 0.0]))\n",
    "states = [pendulum.state()]\n",
    "\n",
    "for i in range(100):\n",
    "    pendulum.step(dt)\n",
    "    states.append(pendulum.state())\n",
    "    ts.append(ts[-1] + dt)\n",
    "\n",
    "X1 = np.asarray([f(q)[0] for p, q in states])\n",
    "Y1 = np.asarray([f(q)[1] for p, q in states])\n",
    "X2 = np.asarray([f(q)[2] for p, q in states])\n",
    "Y2 = np.asarray([f(q)[3] for p, q in states])\n",
    "X3 = np.asarray([f(q)[4] for p, q in states])\n",
    "Y3 = np.asarray([f(q)[5] for p, q in states])"
   ]
  },
  {
   "cell_type": "code",
   "execution_count": null,
   "metadata": {},
   "outputs": [],
   "source": [
    "%%capture\n",
    "\n",
    "fig, ax = plt.subplots()\n",
    "ax.axis([-(l[0]+l[1]), (l[0]+l[1]), -((l[0]+l[1]) + 0.5), 0.5])\n",
    "ax.set_aspect('equal')\n",
    "ax.set_xlabel('X[m]')\n",
    "ax.set_ylabel('Y[m]')\n",
    "\n",
    "link1, = ax.plot([], [], 'b-', lw=2)\n",
    "link2, = ax.plot([], [], 'b-', lw=2)\n",
    "link3, = ax.plot([], [], 'b-', lw=2)\n",
    "c = ax.add_patch(plt.Circle((0, 0), 0.1))\n",
    "\n",
    "def init():\n",
    "    link1.set_data([], [])\n",
    "    link2.set_data([], [])\n",
    "    link3.set_data([], [])\n",
    "    c.center = (X3[0], Y3[0])\n",
    "\n",
    "def animate(i):\n",
    "    link1.set_data([0, X1[i]], [0, Y1[i]])\n",
    "    link2.set_data([X1[i], X2[i]], [Y1[i], Y2[i]])\n",
    "    link3.set_data([X2[i], X3[i]], [Y2[i], Y3[i]])\n",
    "    c.center = (X3[i], Y3[i])\n",
    "\n",
    "ani = matplotlib.animation.FuncAnimation(fig, animate, frames=len(X1), init_func=init)"
   ]
  },
  {
   "cell_type": "code",
   "execution_count": null,
   "metadata": {},
   "outputs": [],
   "source": [
    "HTML(ani.to_jshtml())"
   ]
  },
  {
   "cell_type": "code",
   "execution_count": null,
   "metadata": {},
   "outputs": [],
   "source": [
    "HTML(ani.to_html5_video())"
   ]
  },
  {
   "cell_type": "code",
   "execution_count": null,
   "metadata": {},
   "outputs": [],
   "source": []
  }
 ],
 "metadata": {
  "kernelspec": {
   "display_name": "Python 3",
   "language": "python",
   "name": "python3"
  },
  "language_info": {
   "codemirror_mode": {
    "name": "ipython",
    "version": 3
   },
   "file_extension": ".py",
   "mimetype": "text/x-python",
   "name": "python",
   "nbconvert_exporter": "python",
   "pygments_lexer": "ipython3",
   "version": "3.6.7"
  }
 },
 "nbformat": 4,
 "nbformat_minor": 2
}
