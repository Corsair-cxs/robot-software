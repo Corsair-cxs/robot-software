{
 "cells": [
  {
   "cell_type": "code",
   "execution_count": 1,
   "metadata": {
    "collapsed": true,
    "deletable": true,
    "editable": true
   },
   "outputs": [],
   "source": [
    "# Initialize jupyter\n",
    "%matplotlib inline\n",
    "import matplotlib.pyplot as plt\n",
    "from mpl_toolkits.mplot3d import Axes3D\n",
    "from sympy import *\n",
    "import numpy as np\n",
    "import pylab\n",
    "init_printing()"
   ]
  },
  {
   "cell_type": "markdown",
   "metadata": {},
   "source": [
    "# Forward kinematics"
   ]
  },
  {
   "cell_type": "code",
   "execution_count": 2,
   "metadata": {
    "collapsed": false,
    "deletable": true,
    "editable": true
   },
   "outputs": [],
   "source": [
    "l1, l2, l3 = symbols('l_1 l_2 l_3', real=True)\n",
    "alpha, beta, gamma = symbols('alpha beta gamma', real=True)"
   ]
  },
  {
   "cell_type": "code",
   "execution_count": 3,
   "metadata": {
    "collapsed": true,
    "deletable": true,
    "editable": true
   },
   "outputs": [],
   "source": [
    "x = l1 * cos(alpha) + l2 * cos(alpha + beta) + l3 * cos(alpha + beta + gamma)\n",
    "y = l1 * sin(alpha) + l2 * sin(alpha + beta) + l3 * sin(alpha + beta + gamma)\n",
    "theta = alpha + beta + gamma"
   ]
  },
  {
   "cell_type": "code",
   "execution_count": 4,
   "metadata": {
    "collapsed": false,
    "deletable": true,
    "editable": true
   },
   "outputs": [
    {
     "data": {
      "image/png": "[encoded data removed]",
      "text/latex": [
       "$$\\left[\\begin{matrix}l_{1} \\cos{\\left (\\alpha \\right )} + l_{2} \\cos{\\left (\\alpha + \\beta \\right )} + l_{3} \\cos{\\left (\\alpha + \\beta + \\gamma \\right )}\\\\l_{1} \\sin{\\left (\\alpha \\right )} + l_{2} \\sin{\\left (\\alpha + \\beta \\right )} + l_{3} \\sin{\\left (\\alpha + \\beta + \\gamma \\right )}\\\\\\alpha + \\beta + \\gamma\\end{matrix}\\right]$$"
      ],
      "text/plain": [
       "⎡l₁⋅cos(α) + l₂⋅cos(α + β) + l₃⋅cos(α + β + γ)⎤\n",
       "⎢                                             ⎥\n",
       "⎢l₁⋅sin(α) + l₂⋅sin(α + β) + l₃⋅sin(α + β + γ)⎥\n",
       "⎢                                             ⎥\n",
       "⎣                  α + β + γ                  ⎦"
      ]
     },
     "execution_count": 4,
     "metadata": {},
     "output_type": "execute_result"
    }
   ],
   "source": [
    "P = Matrix([x, y, theta])\n",
    "P"
   ]
  },
  {
   "cell_type": "code",
   "execution_count": 5,
   "metadata": {
    "collapsed": false,
    "deletable": true,
    "editable": true
   },
   "outputs": [
    {
     "data": {
      "image/png": "[encoded data removed]",
      "text/latex": [
       "$$\\left[\\begin{matrix}- l_{1} \\sin{\\left (\\alpha \\right )} - l_{2} \\sin{\\left (\\alpha + \\beta \\right )} - l_{3} \\sin{\\left (\\alpha + \\beta + \\gamma \\right )} & - l_{2} \\sin{\\left (\\alpha + \\beta \\right )} - l_{3} \\sin{\\left (\\alpha + \\beta + \\gamma \\right )} & - l_{3} \\sin{\\left (\\alpha + \\beta + \\gamma \\right )}\\\\l_{1} \\cos{\\left (\\alpha \\right )} + l_{2} \\cos{\\left (\\alpha + \\beta \\right )} + l_{3} \\cos{\\left (\\alpha + \\beta + \\gamma \\right )} & l_{2} \\cos{\\left (\\alpha + \\beta \\right )} + l_{3} \\cos{\\left (\\alpha + \\beta + \\gamma \\right )} & l_{3} \\cos{\\left (\\alpha + \\beta + \\gamma \\right )}\\\\1 & 1 & 1\\end{matrix}\\right]$$"
      ],
      "text/plain": [
       "⎡-l₁⋅sin(α) - l₂⋅sin(α + β) - l₃⋅sin(α + β + γ)  -l₂⋅sin(α + β) - l₃⋅sin(α + β\n",
       "⎢                                                                             \n",
       "⎢l₁⋅cos(α) + l₂⋅cos(α + β) + l₃⋅cos(α + β + γ)   l₂⋅cos(α + β) + l₃⋅cos(α + β \n",
       "⎢                                                                             \n",
       "⎣                      1                                         1            \n",
       "\n",
       " + γ)  -l₃⋅sin(α + β + γ)⎤\n",
       "                         ⎥\n",
       "+ γ)   l₃⋅cos(α + β + γ) ⎥\n",
       "                         ⎥\n",
       "               1         ⎦"
      ]
     },
     "execution_count": 5,
     "metadata": {},
     "output_type": "execute_result"
    }
   ],
   "source": [
    "J = P.jacobian([alpha, beta, gamma])\n",
    "J"
   ]
  },
  {
   "cell_type": "code",
   "execution_count": 6,
   "metadata": {
    "collapsed": true,
    "deletable": true,
    "editable": true
   },
   "outputs": [],
   "source": [
    "# Convert the Jacobian to a numerical version\n",
    "Jnum = lambdify((alpha, beta, gamma, l1, l2, l3), J, 'numpy')"
   ]
  },
  {
   "cell_type": "code",
   "execution_count": 7,
   "metadata": {
    "collapsed": false,
    "deletable": true,
    "editable": true
   },
   "outputs": [],
   "source": [
    "# Evaluate the jacobian around singularity, in normal working regime and define a force vector\n",
    "Jnormal = Jnum(0.230, -0.2, 0.2, 86, 72, 55)\n",
    "Jsingular = Jnum(1e-3, 1e-3, 0, 86, 72, 55)\n",
    "F = np.array([1, 0, 0])"
   ]
  },
  {
   "cell_type": "markdown",
   "metadata": {
    "deletable": true,
    "editable": true
   },
   "source": [
    "# Jacobian Inverse method\n",
    "\n",
    "According to Buss (2009) this sucks big times"
   ]
  },
  {
   "cell_type": "code",
   "execution_count": 8,
   "metadata": {
    "collapsed": true,
    "deletable": true,
    "editable": true
   },
   "outputs": [],
   "source": [
    "JI = lambda J, F: np.linalg.inv(J) @ F"
   ]
  },
  {
   "cell_type": "code",
   "execution_count": 9,
   "metadata": {
    "collapsed": false,
    "deletable": true,
    "editable": true
   },
   "outputs": [
    {
     "data": {
      "text/plain": [
       "array([-0.05850261,  0.12657122, -0.06806861])"
      ]
     },
     "execution_count": 9,
     "metadata": {},
     "output_type": "execute_result"
    }
   ],
   "source": [
    "JI(Jnormal, F)"
   ]
  },
  {
   "cell_type": "code",
   "execution_count": 10,
   "metadata": {
    "collapsed": false,
    "deletable": true,
    "editable": true
   },
   "outputs": [
    {
     "data": {
      "text/plain": [
       "array([ 11.62788566, -25.51676992,  13.88888426])"
      ]
     },
     "execution_count": 10,
     "metadata": {},
     "output_type": "execute_result"
    }
   ],
   "source": [
    "JI(Jsingular, F)"
   ]
  },
  {
   "cell_type": "code",
   "execution_count": 11,
   "metadata": {
    "collapsed": false
   },
   "outputs": [
    {
     "name": "stdout",
     "output_type": "stream",
     "text": [
      "341.023799704\n",
      "7956.88862393\n"
     ]
    }
   ],
   "source": [
    "# Here is why it is a problem: the condition number of the matrix gets huge around the singularity:\n",
    "print(np.linalg.cond(Jnormal))\n",
    "print(np.linalg.cond(Jsingular))"
   ]
  },
  {
   "cell_type": "markdown",
   "metadata": {
    "collapsed": true,
    "deletable": true,
    "editable": true
   },
   "source": [
    "# Dampled least square\n",
    "\n",
    "This should be a bit better around oscillations"
   ]
  },
  {
   "cell_type": "code",
   "execution_count": 12,
   "metadata": {
    "collapsed": false,
    "deletable": true,
    "editable": true
   },
   "outputs": [],
   "source": [
    "DLS_damp = lambda J, F, damping: J.T @ np.linalg.inv((J @ J.T + damping ** 2 * np.eye(3))) @ F"
   ]
  },
  {
   "cell_type": "code",
   "execution_count": 13,
   "metadata": {
    "collapsed": false,
    "deletable": true,
    "editable": true,
    "scrolled": true
   },
   "outputs": [
    {
     "data": {
      "text/plain": [
       "<matplotlib.text.Text at 0x1105eeeb8>"
      ]
     },
     "execution_count": 13,
     "metadata": {},
     "output_type": "execute_result"
    },
    {
     "data": {
      "image/png": "[encoded data removed]",
      "text/plain": [
       "<matplotlib.figure.Figure at 0x11059b748>"
      ]
     },
     "metadata": {},
     "output_type": "display_data"
    }
   ],
   "source": [
    "Damping = np.logspace(-2, 1, num=100)\n",
    "err_sing = lambda l: np.linalg.norm(Jsingular @ DLS_damp(Jsingular, F, l) - F)\n",
    "err_norm = lambda l: np.linalg.norm(Jnormal @ DLS_damp(Jnormal, F, l) - F)\n",
    "\n",
    "plt.semilogx(Damping, np.array([err_sing(s) for s in Damping]))\n",
    "plt.semilogx(Damping, np.array([err_norm(s) for s in Damping]))\n",
    "plt.legend(['Singularity', 'Normal'])\n",
    "plt.xlabel('Damping ($\\lambda$)')\n",
    "plt.ylabel('Error')\n",
    "plt.title('Torque error for DLS')"
   ]
  },
  {
   "cell_type": "markdown",
   "metadata": {
    "deletable": true,
    "editable": true
   },
   "source": [
    "# Comparison of results"
   ]
  },
  {
   "cell_type": "code",
   "execution_count": 14,
   "metadata": {
    "collapsed": false,
    "deletable": true,
    "editable": true
   },
   "outputs": [
    {
     "data": {
      "text/plain": [
       "<matplotlib.text.Text at 0x11089f320>"
      ]
     },
     "execution_count": 14,
     "metadata": {},
     "output_type": "execute_result"
    },
    {
     "data": {
      "image/png": "[encoded data removed]",
      "text/plain": [
       "<matplotlib.figure.Figure at 0x1106a0f60>"
      ]
     },
     "metadata": {},
     "output_type": "display_data"
    }
   ],
   "source": [
    "damping = 0.8\n",
    "DLS = lambda J, F: J.T @ np.linalg.inv((J @ J.T + damping ** 2 * np.eye(3))) @ F\n",
    "Beta = np.linspace(0.00, 2 * 3.14, num=100)\n",
    "\n",
    "def JI_safe(J, F):\n",
    "    try:\n",
    "        return JI(J, F)\n",
    "    except:\n",
    "        return float('nan')\n",
    "    \n",
    "torque_JI = lambda beta: np.linalg.norm(JI_safe(Jnum(0, beta, 0, 100, 100, 0), F))\n",
    "torque_JI = np.vectorize(torque_JI)\n",
    "\n",
    "torque_DLS = lambda beta: np.linalg.norm(DLS(Jnum(0, beta, 0, 100, 100, 0), F))\n",
    "torque_DLS = np.vectorize(torque_DLS)\n",
    "\n",
    "plt.semilogy(Beta, np.array([torque_JI(b) for b in Beta]))\n",
    "plt.semilogy(Beta, np.array([torque_DLS(b) for b in Beta]))\n",
    "\n",
    "plt.legend(('JI', 'DLS'))\n",
    "plt.xlabel('Elbow angle ($\\\\beta$)')\n",
    "plt.ylabel('Torque')\n",
    "#plt.ylim(-0.1, 1)\n",
    "plt.title('Torque around singularity, $\\\\lambda = {:.1f}$'.format(damping))"
   ]
  },
  {
   "cell_type": "markdown",
   "metadata": {
    "deletable": true,
    "editable": true
   },
   "source": [
    "# References\n",
    "Buss, S. R. Introduction to inverse kinematics with jacobian transpose, pseudoinverse and damped least squares methods, 2009. Typeset manuscript from: http://math.ucsd.edu/~sbuss/ResearchWeb."
   ]
  }
 ],
 "metadata": {
  "kernelspec": {
   "display_name": "Python 3",
   "language": "python",
   "name": "python3"
  },
  "language_info": {
   "codemirror_mode": {
    "name": "ipython",
    "version": 3
   },
   "file_extension": ".py",
   "mimetype": "text/x-python",
   "name": "python",
   "nbconvert_exporter": "python",
   "pygments_lexer": "ipython3",
   "version": "3.6.0"
  }
 },
 "nbformat": 4,
 "nbformat_minor": 2
}
