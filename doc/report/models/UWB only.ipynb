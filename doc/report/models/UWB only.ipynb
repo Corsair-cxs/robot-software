{
 "cells": [
  {
   "cell_type": "markdown",
   "metadata": {},
   "source": [
    "# Simple UWB only model\n",
    "\n",
    "This model was developped when I realized that the simple model had two important issues:\n",
    "\n",
    "1. First, it supposed that we knew the rotation between the world frame and the earth magnetic frame, as the beacons' coordinates are in world frame, but the attitude of the robot is in earth magnetic frame.\n",
    "2. The model had a lot of different variances to tune, making the tuning hard to do.\n",
    "\n",
    "This model removes those issues by relying only on the UWB radio ranging for measurement, and no prediction step.\n",
    "\n",
    "## Model\n",
    "The state contains only the position of the robot:\n",
    "\n",
    "\\begin{equation}\n",
    "\\mathbf{x} = \\begin{pmatrix}\n",
    "    x\\\\\n",
    "    y\n",
    "    \\end{pmatrix}\n",
    "\\end{equation}\n",
    "\n",
    "There is no prediction, therefore the prediction step is simply:\n",
    "\n",
    "\\begin{equation}\n",
    "\\mathbf{x}_{k+1} = \\mathbf{x}_{k}\n",
    "\\end{equation}\n",
    "\n",
    "For the measurement, the UWB system gives us the distance $d$ to a beacon.\n",
    "The beacon's position $\\mathbf{b}$ is known and assumed to be fixed.\n",
    "Therefore the measurement model becomes:\n",
    "\n",
    "\\begin{equation}\n",
    "h(\\mathbf{x}, \\mathbf{b}) = \\sqrt{(x - b_x)^2 + (y - b_y)^2}\n",
    "\\end{equation}\n",
    "\n",
    "## Calibrating the variance\n",
    "\n",
    "To compute the variance of the model, we estimate that the robot is moving at a constant speed of maximum $V_{max}$ between two measurements updates (which occurs at $f_{UWB}$).\n",
    "Therefore, the maximum distance that a robot can do is given by:\n",
    "\n",
    "\\begin{equation}\n",
    "d = \\frac{V_{max}}{f}\n",
    "\\end{equation}\n",
    "\n",
    "If we assume that $d = 2 \\sigma$, this means that our hypothesis is valid 97.5% of the time.\n",
    "Therefore, the variance is given by\n",
    "\n",
    "\\begin{equation}\n",
    "\\sigma^2 = \\left( \\frac{V_{max}}{2 f} \\right)^2\n",
    "\\end{equation}\n",
    "\n",
    "In our example below, if we take $f = 10$ and $V_{max} = 1$, this means that sigma is:"
   ]
  },
  {
   "cell_type": "code",
   "execution_count": 1,
   "metadata": {},
   "outputs": [
    {
     "name": "stdout",
     "output_type": "stream",
     "text": [
      "Variance = 0.00250\n"
     ]
    }
   ],
   "source": [
    "vmax = 1\n",
    "f = 200\n",
    "f_uwb = 10\n",
    "variance = (vmax / (2 * f_uwb))**2\n",
    "print(\"Variance = {:.5f}\".format(variance))"
   ]
  },
  {
   "cell_type": "markdown",
   "metadata": {},
   "source": [
    "For the measurement variance, we measured a few hundred points and got a standard deviation of about 3 cm.\n",
    "\n",
    "## Simulation"
   ]
  },
  {
   "cell_type": "code",
   "execution_count": 2,
   "metadata": {},
   "outputs": [],
   "source": [
    "import sympy as sp\n",
    "import numpy as np\n",
    "import matplotlib.pyplot as plt\n",
    "import trajectories\n",
    "import ekf\n",
    "import functools\n",
    "\n",
    "%matplotlib inline\n",
    "sp.init_printing()"
   ]
  },
  {
   "cell_type": "code",
   "execution_count": 3,
   "metadata": {},
   "outputs": [],
   "source": [
    "# defines a few variables\n",
    "x, y = sp.symbols('x y')\n",
    "state = sp.Matrix([x, y])\n",
    "dt = sp.symbols('Delta_t')\n",
    "b_x, b_y = sp.symbols('b_x b_y') # beacon position"
   ]
  },
  {
   "cell_type": "code",
   "execution_count": 4,
   "metadata": {},
   "outputs": [],
   "source": [
    "g = state\n",
    "h_b = sp.Matrix([sp.sqrt((x - b_x)**2 + (y - b_y)**2)])\n",
    "\n",
    "BEACON_POS = [\n",
    "    (-1.5, 0),\n",
    "    (1.5, 1),\n",
    "    (1.5, -1),\n",
    "]"
   ]
  },
  {
   "cell_type": "code",
   "execution_count": 5,
   "metadata": {},
   "outputs": [],
   "source": [
    "def simulate_trajectory(process_variance, measurement_variance, f=10, N=1000):\n",
    "    # Empty control input\n",
    "    u = sp.Matrix([])\n",
    "\n",
    "    # Prepares the numerical version of the update functions\n",
    "    g_num = sp.lambdify([state, u], g, 'numpy')\n",
    "    G_num = sp.lambdify([state, u], g.jacobian(state), 'numpy')\n",
    "    h_num = sp.lambdify([[b_x, b_y], state], h_b, 'numpy')\n",
    "    H_num = sp.lambdify([[b_x, b_y], state], h_b.jacobian(state), 'numpy')\n",
    "\n",
    "    # Sample covariance for the model\n",
    "    Q_b = np.array([[measurement_variance]])\n",
    "    R = np.eye(2) * process_variance\n",
    "\n",
    "    # Prepare the kalman filter\n",
    "    predictor = ekf.Predictor(g_num, G_num, R)\n",
    "    correctors = [\n",
    "        ekf.Corrector(functools.partial(h_num, pos),\n",
    "                      functools.partial(H_num, pos),\n",
    "                      Q_b\n",
    "                     )\n",
    "    for pos in BEACON_POS]\n",
    "\n",
    "    mu = np.array([0, 0]) # initial state\n",
    "    sigma = np.diag([1, 1])\n",
    "\n",
    "    x, xhat = [], []\n",
    "    y, yhat = [], []\n",
    "    ts = []\n",
    "\n",
    "    for i, p in zip(range(N), trajectories.generate_circular_traj(1, np.deg2rad(10), 1/f)):\n",
    "        # feeds the input into Kalman\n",
    "        filter_input = np.array([])\n",
    "        \n",
    "        if i % (f / f_uwb) == 0:\n",
    "            mu, sigma = predictor(mu, sigma, filter_input)\n",
    "            for corrector in correctors:\n",
    "                z = corrector.h(np.array([p.pos[0], p.pos[1]]))\n",
    "                z += np.random.normal(0, 0.01)\n",
    "                mu, sigma = corrector(mu, sigma, z)\n",
    "\n",
    "        # Saves the data\n",
    "        ts.append(p.timestamp)\n",
    "        x.append(p.pos[0])\n",
    "        xhat.append(mu[0])\n",
    "        y.append(p.pos[1])\n",
    "        yhat.append(mu[1])\n",
    "        \n",
    "    return ts, x, y, xhat, yhat"
   ]
  },
  {
   "cell_type": "code",
   "execution_count": 6,
   "metadata": {},
   "outputs": [],
   "source": [
    "ts, x, y, xhat, yhat = simulate_trajectory(process_variance=0.00250, measurement_variance=0.03**2)"
   ]
  },
  {
   "cell_type": "code",
   "execution_count": 7,
   "metadata": {},
   "outputs": [
    {
     "data": {
      "image/png": "[encoded data removed]",
      "text/plain": [
       "<matplotlib.figure.Figure at 0x10f2c0588>"
      ]
     },
     "metadata": {},
     "output_type": "display_data"
    },
    {
     "data": {
      "image/png": "[encoded data removed]",
      "text/plain": [
       "<matplotlib.figure.Figure at 0x111c1c080>"
      ]
     },
     "metadata": {},
     "output_type": "display_data"
    }
   ],
   "source": [
    "plt.plot(x, y)\n",
    "plt.plot(xhat, yhat)\n",
    "plt.plot([x for x, y in BEACON_POS],[y for x, y in BEACON_POS], 'x')\n",
    "plt.legend(('Simulated trajectory', 'EKF output', 'anchors'))\n",
    "plt.title('trajectory')\n",
    "plt.xlabel('x [m]')\n",
    "plt.ylabel('y [m]')\n",
    "plt.gcf().savefig('uwb_only_trajectory.pdf')\n",
    "plt.show()\n",
    "\n",
    "error = [np.sqrt((x-xh)**2+(y-yh)**2) for x,xh,y,yh in zip(x, xhat,y,yhat)]\n",
    "plt.plot(ts, error)\n",
    "plt.xlabel('timestamp')\n",
    "plt.ylabel('error [m]')\n",
    "plt.ylim(0, 0.1)\n",
    "plt.title('Position error (RMS = {:.3f} m)'.format(np.mean(error)))\n",
    "plt.gcf().savefig('uwb_only_error.pdf')\n",
    "plt.show()"
   ]
  },
  {
   "cell_type": "code",
   "execution_count": 8,
   "metadata": {},
   "outputs": [],
   "source": [
    "def cost(variances):\n",
    "    process_variance = variances[0]\n",
    "    measurement_variance = variances[1]\n",
    "    _, x, xh, y, yh = simulate_trajectory(process_variance, measurement_variance, N=100)\n",
    "    \n",
    "    return sum(np.sqrt((x-xh)**2+(y-yh)**2) for x,xh,y,yh in zip(x, xhat,y,yhat))"
   ]
  },
  {
   "cell_type": "code",
   "execution_count": 9,
   "metadata": {},
   "outputs": [
    {
     "data": {
      "text/plain": [
       "array([ 58.15944721])"
      ]
     },
     "execution_count": 9,
     "metadata": {},
     "output_type": "execute_result"
    }
   ],
   "source": [
    "x0 = np.array([0.1**2, 0.03**2])\n",
    "cost(x0)"
   ]
  },
  {
   "cell_type": "code",
   "execution_count": 10,
   "metadata": {},
   "outputs": [],
   "source": [
    "# We tried to optimize it but its not very efficient\n",
    "# scipy.optimize.basinhopping(cost, x0, niter=10)"
   ]
  },
  {
   "cell_type": "code",
   "execution_count": null,
   "metadata": {},
   "outputs": [],
   "source": []
  }
 ],
 "metadata": {
  "kernelspec": {
   "display_name": "Python 3",
   "language": "python",
   "name": "python3"
  },
  "language_info": {
   "codemirror_mode": {
    "name": "ipython",
    "version": 3
   },
   "file_extension": ".py",
   "mimetype": "text/x-python",
   "name": "python",
   "nbconvert_exporter": "python",
   "pygments_lexer": "ipython3",
   "version": "3.6.2"
  }
 },
 "nbformat": 4,
 "nbformat_minor": 2
}
