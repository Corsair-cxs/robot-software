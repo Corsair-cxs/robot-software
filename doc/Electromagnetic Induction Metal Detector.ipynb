{
 "cells": [
  {
   "cell_type": "markdown",
   "metadata": {},
   "source": [
    "# EMI Metal Detector Design"
   ]
  },
  {
   "cell_type": "markdown",
   "metadata": {},
   "source": [
    "## Design constraints\n",
    "Mostly dictated by motor board. \n",
    "The goal being to reuse the motor board with minimum modifications to speed up the development.\n",
    "\n",
    "### Shunt resistor\n",
    "- R: 10m$\\Omega$\n",
    "\n",
    "### Op amp (INA282) \n",
    "- Bandwidth: 10kHZ\n",
    "- Gain: 50\n",
    "- Gain error: +/- 1.4%\n",
    "\n",
    "### ADC low pass\n",
    "- Cut-off: 4.7kHz"
   ]
  },
  {
   "cell_type": "markdown",
   "metadata": {},
   "source": [
    "## Coil design\n",
    "\n",
    "### Coil time constant\n",
    "A coil time constant is given by\n",
    "$$\\tau = \\frac{L}{R}$$\n",
    "\n",
    "Given limiting sampling frequency: 4.7kHz, by Shannon we can measure well up to 500Hz signals.\n",
    "\n",
    "Optimal coil time constant is \n",
    "$$\\tau_{optimal} \\approx \\frac{1}{500} \\approx 2ms$$\n",
    "\n",
    "### Cylindrical coil inductance\n",
    "A cylindrical coil inductance is given by\n",
    "$$L = \\frac{r^2 N^2}{20r + 28d}$$\n",
    "\n",
    "where \n",
    "- L is the inductance in $\\mu$H, \n",
    "- r is the mean radius in cm, \n",
    "- N is the number of turns, \n",
    "- d is depth of the coil (outer radius minus inner radius) in cm.\n",
    "\n",
    "Source: Spiral air coil formula https://en.wikipedia.org/wiki/Inductor#Inductance_formulas\n",
    "\n",
    "Converted to SI units ($H$ and $m$):\n",
    "$$L = 10^{-4} \\frac{r^2 N^2}{20r + 28d}$$\n",
    "\n",
    "### Cylidrical coil resistance\n",
    "Resistance is defined as\n",
    "$$R = \\frac{\\rho l}{A} = \\alpha l$$\n",
    "with $\\alpha = \\frac{\\rho}{A}$ the wire linear resistivity in $\\Omega$/m, where\n",
    "- $\\rho$ is the resistivity in $\\Omega$m\n",
    "- l the length of the wire in m\n",
    "- A the cross section of the wire in m$^2$\n",
    "\n",
    "For a cylindrical coil, the wire length is given by the product of the cylinder perimeter and the number of turns:\n",
    "$$l = 2 \\pi r N$$\n",
    "\n",
    "Such that the resistance of a cylindrical coil is\n",
    "$$R = 2 \\pi \\alpha r N $$\n",
    "\n",
    "### Coil time constant simplification\n",
    "Plugging the formulas from above in the RL circuit time constant we get\n",
    "$$\\tau = \\frac{L}{R} = \\frac{10^{-4}}{2\\pi} \\frac{r N}{\\alpha (20r + 28d)}$$\n",
    "\n",
    "For a big enough coil (r > 5cm), the depth of the coil $d$ is smaller than the coil radius $d << r$ so we can neglect in the formula, which yields the simplified version:\n",
    "$$\\tau \\approx \\frac{10^{-4}}{2\\pi} \\frac{r N}{20\\alpha r} = \\frac{10^{-5}}{4\\pi} \\frac{N}{\\alpha}$$\n",
    "\n",
    "The time constant now only depends on the number of turns $N$ and the linear resistivity of the wire $\\alpha$.\n",
    "These are our two design parameters to match the desired $\\tau_{optimal}$.\n",
    "\n",
    "### Fixing other parameters\n",
    "The depth of the coil should be kept minimal (<1cm) given the simplification done above.\n",
    "\n",
    "The radius of the coil determines what size of objects our detector will sense best.\n",
    "We want to detect Anti-Personal landmine size objects which range from 6cm to 14cm. So our coil should be in 14-30cm diameter range, so $r \\in [0.07, 0.15]$.\n",
    "\n",
    "### Energy considerations\n",
    "Energy stored in a coil is given by\n",
    "$$W = \\frac{1}{2} L I^2 = \\frac{1}{2} \\frac{L U^2}{R^2}$$\n",
    "\n",
    "### Voltage detection constraints\n",
    "Or antenna size https://em.geosci.xyz/content/geophysical_surveys/gpr/survey.html? Now minimal Voltage that could be detected is ???. How Voltage could be defined in the system:\n",
    "\n",
    "### Decay of magnetic field (Probing Distance) \n",
    "As a general rule, the probing distance (D) is approximated 3 skin depths. If we assume the Earth is non-magnetic (μr=1):\n",
    "https://em.geosci.xyz/content/geophysical_surveys/gpr/survey_design.html\n",
    "\n",
    "### Scattering\n",
    "Scattering is used to describe deviations in the paths of electromagnetic waves due to localized non-uniformities; which are less than 1/4 the wavelength of the radiowave signal. Scattering is problematic for GPR because it reduces the amplitudes of useful signals while increasing extraneous noise. It also make the interpretation of GPR data more challenging. Scattering noise could be reduced by using stacking (maybe 20 samples are enough as per example in the page). At this step, check 'Gain correction' section\n",
    "https://em.geosci.xyz/content/geophysical_surveys/gpr/physics.html\n",
    "\n",
    "### Ground penetration considerations\n",
    "Ground penetration of the EM wave is characterized by the Beer Lambert law.\n",
    "The order of magnitude is given by the skin depth\n",
    "$$\\delta = \\sqrt{\\frac{\\rho}{\\pi f \\mu_r \\mu_0}} \\sqrt{\\sqrt{1 + (2 \\pi f \\rho \\epsilon_r \\epsilon_0)^2} + 2 \\pi f \\rho \\epsilon_r \\epsilon_0}$$\n",
    "\n",
    "with\n",
    "- $\\rho$ resistivity of the material\n",
    "- $f$ the operating frequency\n",
    "- $\\mu_r$ the relative magnetic permeability\n",
    "- $\\mu_0$ the permeability of free space: $4 \\pi \\cdot 10^{-7} H/m$\n",
    "- $\\epsilon_r$ the relative permittivity of the material\n",
    "- $\\epsilon_0$ the permittivity of free space: $8.854187817 \\cdot 10^{-12} F/m$\n",
    "\n",
    "at this depth, the original wave amplitude $A_0$ is $\\frac{A_0}{e} \\approx 0.3679 A_0$"
   ]
  },
  {
   "cell_type": "code",
   "execution_count": 6,
   "metadata": {},
   "outputs": [],
   "source": [
    "%matplotlib widget\n",
    "from math import *\n",
    "import numpy as np\n",
    "import matplotlib.pyplot as plt\n",
    "from ipywidgets import interact, interactive, fixed, interact_manual\n",
    "import ipywidgets as widgets\n",
    "\n",
    "AWG_LINEAR_RESISTIVITY = {'0': 0.00032, '1': 0.0004, '2': 0.0005, '3': 0.00064, '4': 0.0008, '5': 0.001, '6': 0.00125, '7': 0.0016, '8': 0.002, '9': 0.0025, '10': 0.0032, '11': 0.004, '12': 0.005, '13': 0.0064, '14': 0.008, '15': 0.01, '16': 0.0125, '17': 0.016, '18': 0.02, '19': 0.025, '20': 0.032, '21': 0.04, '22': 0.05, '23': 0.064, '24': 0.08, '25': 0.1, '26': 0.125, '27': 0.16, '28': 0.2, '29': 0.25, '30': 0.32, '31': 0.4, '32': 0.5, '33': 0.64, '34': 0.8, '35': 1, '36': 1.25, '37': 1.6, '38': 2, '39': 2.5}"
   ]
  },
  {
   "cell_type": "code",
   "execution_count": 13,
   "metadata": {},
   "outputs": [],
   "source": [
    "def coil_inductance(r, N, d):\n",
    "    return 1e-4 * ((r**2) * (N**2)) / (20 * r + 28 * d)\n",
    "\n",
    "def coil_length(r, N):\n",
    "    return 2 * pi * r * N\n",
    "\n",
    "def coil_resistance(r, N, alpha):\n",
    "    return coil_length(r, N) * alpha\n",
    "\n",
    "def coil_turn_count(tau, alpha): \n",
    "    return (4 * pi) * (1e5) * tau * alpha\n",
    "\n",
    "def coil_energy(L, R, U):\n",
    "    return 0.5 * L * (U**2) / (R**2)\n",
    "\n",
    "def design_coil(tau, awg, r = 0.07, d = 0.01):\n",
    "    alpha = AWG_LINEAR_RESISTIVITY[str(awg)]\n",
    "    N = round(coil_turn_count(tau, alpha))\n",
    "    L = coil_inductance(r, N, d)\n",
    "    R = coil_resistance(r, N, alpha)\n",
    "    return N, L, R, L/R, r"
   ]
  },
  {
   "cell_type": "code",
   "execution_count": 22,
   "metadata": {},
   "outputs": [
    {
     "data": {
      "application/vnd.jupyter.widget-view+json": {
       "model_id": "922b8779f41840a4be61d20a94b0d7a4",
       "version_major": 2,
       "version_minor": 0
      },
      "text/plain": [
       "interactive(children=(BoundedFloatText(value=2.0, description='Tau [ms]', max=50.0, min=2.0), Dropdown(descrip…"
      ]
     },
     "metadata": {},
     "output_type": "display_data"
    }
   ],
   "source": [
    "def show_coil(tau_ms, awg, r_cm = 7, d_cm = 1, voltage=12):\n",
    "    N, L, R, tau, r = design_coil(tau_ms/1000, awg, r_cm/100, d_cm/100)\n",
    "    print('Coil with     {} turns'.format(N))\n",
    "    print('Inductance    {:.7f} H'.format(L))\n",
    "    print('Resistance    {:.7f} Ohm'.format(R))\n",
    "    print('Tau           {:.7f} s'.format(tau))\n",
    "    print('You will need {:.7f} m of wire'.format(coil_length(r, N)))\n",
    "    print('Energy        {:.7f} J'.format(coil_energy(L, R, voltage)))\n",
    "\n",
    "interact(show_coil, \n",
    "         tau_ms=widgets.BoundedFloatText(value=2.0, min=2.0, max=50.0, description='Tau [ms]'), \n",
    "         awg=widgets.Dropdown(options=AWG_LINEAR_RESISTIVITY.keys(), value='20', description='AWG'),\n",
    "         r_cm=widgets.BoundedFloatText(value=7.0, min=1.0, max=30.0, description='Radius [cm]'),\n",
    "         d_cm=widgets.BoundedFloatText(value=0.5, min=0.1, max=2.0, step=0.1, description='Depth [cm]'),\n",
    "         voltage=widgets.BoundedFloatText(value=10.0, min=1.0, max=12.0, step=0.5, description='Voltage [V]'));"
   ]
  },
  {
   "cell_type": "code",
   "execution_count": 38,
   "metadata": {},
   "outputs": [
    {
     "data": {
      "text/plain": [
       "225.0869052456384"
      ]
     },
     "execution_count": 38,
     "metadata": {},
     "output_type": "execute_result"
    }
   ],
   "source": [
    "rho = 100 # 1000\n",
    "mu_0 = 4 * pi * 1e-7\n",
    "mu_r = 1\n",
    "mu = mu_0 * mu_r\n",
    "eps_0 = 8.854187817e-12\n",
    "eps_r = 25 # 4\n",
    "eps = eps_0 * eps_r\n",
    "tau = 2e-3\n",
    "f = 1 / tau \n",
    "delta = sqrt(rho/(pi * f * mu)) * sqrt(sqrt(1 + (2 * pi * f * rho * eps)**2) + 2 * pi * f * rho * eps)\n",
    "delta # skin depth"
   ]
  },
  {
   "cell_type": "code",
   "execution_count": null,
   "metadata": {},
   "outputs": [],
   "source": []
  }
 ],
 "metadata": {
  "kernelspec": {
   "display_name": "Python 3",
   "language": "python",
   "name": "python3"
  },
  "language_info": {
   "codemirror_mode": {
    "name": "ipython",
    "version": 3
   },
   "file_extension": ".py",
   "mimetype": "text/x-python",
   "name": "python",
   "nbconvert_exporter": "python",
   "pygments_lexer": "ipython3",
   "version": "3.6.5"
  }
 },
 "nbformat": 4,
 "nbformat_minor": 2
}
