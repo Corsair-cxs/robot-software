{
 "cells": [
  {
   "cell_type": "markdown",
   "metadata": {},
   "source": [
    "# EMI Metal Detector Design"
   ]
  },
  {
   "cell_type": "markdown",
   "metadata": {},
   "source": [
    "## Design constraints\n",
    "Mostly dictated by motor board. \n",
    "The goal being to reuse the motor board with minimum modifications to speed up the development.\n",
    "\n",
    "### Shunt resistor\n",
    "- R: 10m$\\Omega$\n",
    "\n",
    "### Op amp (INA282) \n",
    "- Bandwidth: 10kHZ\n",
    "- Gain: 50\n",
    "- Gain error: +/- 1.4%\n",
    "\n",
    "### ADC low pass\n",
    "- Cut-off: 4.7kHz"
   ]
  },
  {
   "cell_type": "markdown",
   "metadata": {},
   "source": [
    "## Coil design\n",
    "\n",
    "### Coil time constant\n",
    "A coil time constant is given by\n",
    "$$\\tau = \\frac{L}{R}$$\n",
    "\n",
    "Given limiting sampling frequency: 4.7kHz, by Shannon we can measure well up to 500Hz signals.\n",
    "\n",
    "Optimal coil time constant is \n",
    "$$\\tau_{optimal} \\approx \\frac{1}{500} \\approx 2ms$$\n",
    "\n",
    "### Cylindrical coil inductance\n",
    "A cylindrical coil inductance is given by\n",
    "$$L = \\frac{r^2 N^2}{20r + 28d}$$\n",
    "\n",
    "where \n",
    "- L is the inductance in $\\mu$H, \n",
    "- r is the mean radius in cm, \n",
    "- N is the number of turns, \n",
    "- d is depth of the coil (outer radius minus inner radius) in cm.\n",
    "\n",
    "Source: Spiral air coil formula https://en.wikipedia.org/wiki/Inductor#Inductance_formulas\n",
    "\n",
    "Converted to SI units ($H$ and $m$):\n",
    "$$L = 10^{-4} \\frac{r^2 N^2}{20r + 28d}$$\n",
    "\n",
    "### Cylidrical coil resistance\n",
    "Resistance is defined as\n",
    "$$R = \\frac{\\rho l}{A} = \\alpha l$$\n",
    "with $\\alpha = \\frac{\\rho}{A}$ the wire linear resistivity in $\\Omega$/m, where\n",
    "- $\\rho$ is the resistivity in $\\Omega$m\n",
    "- l the length of the wire in m\n",
    "- A the cross section of the wire in m$^2$\n",
    "\n",
    "For a cylindrical coil, the wire length is given by the product of the cylinder perimeter and the number of turns:\n",
    "$$l = 2 \\pi r N$$\n",
    "\n",
    "Such that the resistance of a cylindrical coil is\n",
    "$$R = 2 \\pi \\alpha r N $$\n",
    "\n",
    "### Coil time constant simplification\n",
    "Plugging the formulas from above in the RL circuit time constant we get\n",
    "$$\\tau = \\frac{L}{R} = \\frac{10^{-4}}{2\\pi} \\frac{r N}{\\alpha (20r + 28d)}$$\n",
    "\n",
    "For a big enough coil (r > 5cm), the depth of the coil $d$ is smaller than the coil radius $d << r$ so we can neglect in the formula, which yields the simplified version:\n",
    "$$\\tau \\approx \\frac{10^{-4}}{2\\pi} \\frac{r N}{20\\alpha r} = \\frac{10^{-5}}{4\\pi} \\frac{N}{\\alpha}$$\n",
    "\n",
    "The time constant now only depends on the number of turns $N$ and the linear resistivity of the wire $\\alpha$.\n",
    "These are our two design parameters to match the desired $\\tau_{optimal}$.\n",
    "\n",
    "### Fixing other parameters\n",
    "The depth of the coil should be kept minimal (<1cm) given the simplification done above.\n",
    "\n",
    "The radius of the coil determines what size of objects our detector will sense best.\n",
    "We want to detect Anti-Personal landmine size objects which range from 6cm to 14cm. So our coil should be in 14-30cm diameter range, so $r \\in [0.07, 0.15]$.\n",
    "\n",
    "### Energy considerations\n",
    "Energy stored in a coil is given by\n",
    "$$W = \\frac{1}{2} L I^2 = \\frac{1}{2} \\frac{L U^2}{R^2}$$\n",
    "\n",
    "### Voltage detection constraints\n",
    "Or antenna size https://em.geosci.xyz/content/geophysical_surveys/gpr/survey.html? Now minimal Voltage that could be detected is ???. How Voltage could be defined in the system:\n",
    "\n",
    "### Decay of magnetic field (Probing Distance) \n",
    "As a general rule, the probing distance (D) is approximated 3 skin depths. If we assume the Earth is non-magnetic (μr=1):\n",
    "https://em.geosci.xyz/content/geophysical_surveys/gpr/survey_design.html\n",
    "\n",
    "### Scattering\n",
    "Scattering is used to describe deviations in the paths of electromagnetic waves due to localized non-uniformities; which are less than 1/4 the wavelength of the radiowave signal. Scattering is problematic for GPR because it reduces the amplitudes of useful signals while increasing extraneous noise. It also make the interpretation of GPR data more challenging. Scattering noise could be reduced by using stacking (maybe 20 samples are enough as per example in the page). At this step, check 'Gain correction' section\n",
    "https://em.geosci.xyz/content/geophysical_surveys/gpr/physics.html\n",
    "\n",
    "### Ground penetration considerations\n",
    "Ground penetration of the EM wave is characterized by the Beer Lambert law.\n",
    "The order of magnitude is given by the skin depth\n",
    "$$\\delta = \\sqrt{\\frac{\\rho}{\\pi f \\mu_r \\mu_0}} \\sqrt{\\sqrt{1 + (2 \\pi f \\rho \\epsilon_r \\epsilon_0)^2} + 2 \\pi f \\rho \\epsilon_r \\epsilon_0}$$\n",
    "\n",
    "with\n",
    "- $\\rho$ resistivity of the material\n",
    "- $f$ the operating frequency\n",
    "- $\\mu_r$ the relative magnetic permeability\n",
    "- $\\mu_0$ the permeability of free space: $4 \\pi \\cdot 10^{-7} H/m$\n",
    "- $\\epsilon_r$ the relative permittivity of the material\n",
    "- $\\epsilon_0$ the permittivity of free space: $8.854187817 \\cdot 10^{-12} F/m$\n",
    "\n",
    "at this depth, the original wave amplitude $A_0$ is $\\frac{A_0}{e} \\approx 0.3679 A_0$"
   ]
  },
  {
   "cell_type": "code",
   "execution_count": 7,
   "metadata": {},
   "outputs": [],
   "source": [
    "%matplotlib widget\n",
    "from math import *\n",
    "import numpy as np\n",
    "import matplotlib.pyplot as plt\n",
    "from ipywidgets import interact, interactive, fixed, interact_manual\n",
    "import ipywidgets as widgets\n",
    "\n",
    "AWG_LINEAR_RESISTIVITY = {'0': 0.00032, '1': 0.0004, '2': 0.0005, '3': 0.00064, '4': 0.0008, '5': 0.001, '6': 0.00125, '7': 0.0016, '8': 0.002, '9': 0.0025, '10': 0.0032, '11': 0.004, '12': 0.005, '13': 0.0064, '14': 0.008, '15': 0.01, '16': 0.0125, '17': 0.016, '18': 0.02, '19': 0.025, '20': 0.032, '21': 0.04, '22': 0.05, '23': 0.064, '24': 0.08, '25': 0.1, '26': 0.125, '27': 0.16, '28': 0.2, '29': 0.25, '30': 0.32, '31': 0.4, '32': 0.5, '33': 0.64, '34': 0.8, '35': 1, '36': 1.25, '37': 1.6, '38': 2, '39': 2.5}\n",
    "AWG_KG_PER_METER = {'0': 0.475, '1': 0.377, '2': 0.299, '3': 0.237, '4': 0.188, '5': 0.149, '6': 0.118, '7': 0.0938, '8': 0.0744, '9': 0.0590, '10': 0.0468, '11': 0.0371, '12': 0.0294, '13': 0.0234, '14': 0.0185, '15': 0.0147, '16': 0.0116, '17': 0.00922, '18': 0.00732, '19': 0.00580, '20': 0.00460, '21': 0.00365, '22': 0.00289, '23': 0.00229, '24': 0.00182, '25': 0.00144, '26': 0.00114, '27': 0.000908, '28': 0.000720, '29': 0.000571, '30': 0.000453, '31': 0.000359, '32': 0.000285, '33': 0.000226, '34': 0.000179, '35': 0.000142, '36': 0.000113, '37': 0.0000893, '38': 0.0000708, '39': 0.0000562}"
   ]
  },
  {
   "cell_type": "code",
   "execution_count": 9,
   "metadata": {},
   "outputs": [],
   "source": [
    "def coil_inductance(r, N, d):\n",
    "    return 1e-4 * ((r**2) * (N**2)) / (20 * r + 28 * d)\n",
    "\n",
    "def coil_length(r, N):\n",
    "    return 2 * pi * r * N\n",
    "\n",
    "def coil_resistance(r, N, alpha):\n",
    "    return coil_length(r, N) * alpha\n",
    "\n",
    "def coil_turn_count(tau, alpha): \n",
    "    return (4 * pi) * (1e5) * tau * alpha\n",
    "\n",
    "def coil_energy(L, R, U):\n",
    "    return 0.5 * L * (U**2) / (R**2)\n",
    "\n",
    "def coil_mass(r, N, awg):\n",
    "    return coil_length(r, N) * AWG_KG_PER_METER[str(awg)]\n",
    "    \n",
    "def design_coil(tau, awg, r = 0.07, d = 0.01):\n",
    "    alpha = AWG_LINEAR_RESISTIVITY[str(awg)]\n",
    "    N = round(coil_turn_count(tau, alpha))\n",
    "    L = coil_inductance(r, N, d)\n",
    "    R = coil_resistance(r, N, alpha)\n",
    "    return N, L, R, L/R, r"
   ]
  },
  {
   "cell_type": "code",
   "execution_count": 13,
   "metadata": {},
   "outputs": [
    {
     "data": {
      "application/vnd.jupyter.widget-view+json": {
       "model_id": "05026ed69df54ffa97030d7d51ef7294",
       "version_major": 2,
       "version_minor": 0
      },
      "text/plain": [
       "interactive(children=(BoundedFloatText(value=2.0, description='Tau [ms]', max=50.0, min=0.1), Dropdown(descrip…"
      ]
     },
     "metadata": {},
     "output_type": "display_data"
    }
   ],
   "source": [
    "def show_coil(tau_ms, awg, r_cm = 7, d_cm = 1, voltage=12):\n",
    "    N, L, R, tau, r = design_coil(tau_ms/1000, awg, r_cm/100, d_cm/100)\n",
    "    print('Coil with     {} turns'.format(N))\n",
    "    print('Inductance    {:.7f} H'.format(L))\n",
    "    print('Resistance    {:.7f} Ohm'.format(R))\n",
    "    print('Tau           {:.7f} s'.format(tau))\n",
    "    print('Energy        {:.7f} J'.format(coil_energy(L, R, voltage)))\n",
    "    print('You will need {:.7f} m of wire'.format(coil_length(r, N)))\n",
    "    print('Coil mass     {:.7f} g'.format(coil_mass(r, N, awg) * 1000))\n",
    "\n",
    "interact(show_coil, \n",
    "         tau_ms=widgets.BoundedFloatText(value=2.0, min=0.1, max=50.0, description='Tau [ms]'), \n",
    "         awg=widgets.Dropdown(options=AWG_LINEAR_RESISTIVITY.keys(), value='20', description='AWG'),\n",
    "         r_cm=widgets.BoundedFloatText(value=7.0, min=1.0, max=30.0, description='Radius [cm]'),\n",
    "         d_cm=widgets.BoundedFloatText(value=0.5, min=0.1, max=2.0, step=0.1, description='Depth [cm]'),\n",
    "         voltage=widgets.BoundedFloatText(value=10.0, min=1.0, max=12.0, step=0.5, description='Voltage [V]'));"
   ]
  },
  {
   "cell_type": "code",
   "execution_count": 11,
   "metadata": {},
   "outputs": [
    {
     "data": {
      "text/plain": [
       "225.0869052456384"
      ]
     },
     "execution_count": 11,
     "metadata": {},
     "output_type": "execute_result"
    }
   ],
   "source": [
    "rho = 100 # 1000\n",
    "mu_0 = 4 * pi * 1e-7\n",
    "mu_r = 1\n",
    "mu = mu_0 * mu_r\n",
    "eps_0 = 8.854187817e-12\n",
    "eps_r = 25 # 4\n",
    "eps = eps_0 * eps_r\n",
    "tau = 2e-3\n",
    "f = 1 / tau \n",
    "delta = sqrt(rho/(pi * f * mu)) * sqrt(sqrt(1 + (2 * pi * f * rho * eps)**2) + 2 * pi * f * rho * eps)\n",
    "delta # skin depth"
   ]
  },
  {
   "cell_type": "code",
   "execution_count": null,
   "metadata": {},
   "outputs": [],
   "source": []
  }
 ],
 "metadata": {
  "kernelspec": {
   "display_name": "Python 3",
   "language": "python",
   "name": "python3"
  },
  "language_info": {
   "codemirror_mode": {
    "name": "ipython",
    "version": 3
   },
   "file_extension": ".py",
   "mimetype": "text/x-python",
   "name": "python",
   "nbconvert_exporter": "python",
   "pygments_lexer": "ipython3",
   "version": "3.6.5"
  },
  "widgets": {
   "application/vnd.jupyter.widget-state+json": {
    "state": {
     "03ecd1f4c5bf4d5c8305f2a96ec2ec99": {
      "model_module": "@jupyter-widgets/base",
      "model_module_version": "1.1.0",
      "model_name": "LayoutModel",
      "state": {}
     },
     "09c38f88f2304adfac5fef7491cb6042": {
      "model_module": "@jupyter-widgets/base",
      "model_module_version": "1.1.0",
      "model_name": "LayoutModel",
      "state": {}
     },
     "0a893102d55f4b22945e22dd077866b9": {
      "model_module": "@jupyter-widgets/base",
      "model_module_version": "1.1.0",
      "model_name": "LayoutModel",
      "state": {}
     },
     "1c4ec54003044e99b9c487f58202b3f0": {
      "model_module": "@jupyter-widgets/controls",
      "model_module_version": "1.3.0",
      "model_name": "BoundedFloatTextModel",
      "state": {
       "description": "Depth [cm]",
       "layout": "IPY_MODEL_0a893102d55f4b22945e22dd077866b9",
       "max": 2,
       "min": 0.1,
       "style": "IPY_MODEL_bec8967238124bbabb0097cf858e11eb",
       "value": 0.5
      }
     },
     "1f207efc2cc945909f4902ab7c5a7468": {
      "model_module": "@jupyter-widgets/base",
      "model_module_version": "1.1.0",
      "model_name": "LayoutModel",
      "state": {}
     },
     "20557c08754f49f19138d304de46883f": {
      "model_module": "@jupyter-widgets/controls",
      "model_module_version": "1.3.0",
      "model_name": "DescriptionStyleModel",
      "state": {
       "description_width": ""
      }
     },
     "218adc98a46840f187992a7cf937d578": {
      "model_module": "@jupyter-widgets/controls",
      "model_module_version": "1.3.0",
      "model_name": "DescriptionStyleModel",
      "state": {
       "description_width": ""
      }
     },
     "22887b2bff0d481e8d0bf98585b6d37b": {
      "model_module": "@jupyter-widgets/base",
      "model_module_version": "1.1.0",
      "model_name": "LayoutModel",
      "state": {}
     },
     "385da51c766245f4be6675958e010a21": {
      "model_module": "@jupyter-widgets/base",
      "model_module_version": "1.1.0",
      "model_name": "LayoutModel",
      "state": {}
     },
     "41f0658e41f348babb9b95fd4f4833d3": {
      "model_module": "@jupyter-widgets/output",
      "model_module_version": "1.0.0",
      "model_name": "OutputModel",
      "state": {
       "layout": "IPY_MODEL_09c38f88f2304adfac5fef7491cb6042",
       "outputs": [
        {
         "name": "stdout",
         "output_type": "stream",
         "text": "Coil with     80 turns\nInductance    0.0029647 H\nResistance    1.6889202 Ohm\nTau           0.0017554 s\nYou will need 52.7787566 m of wire\nEnergy        0.0519677 J\n"
        }
       ]
      }
     },
     "4406f489252e4f8283d6c60a9630dd4f": {
      "model_module": "@jupyter-widgets/base",
      "model_module_version": "1.1.0",
      "model_name": "LayoutModel",
      "state": {}
     },
     "44b4873298d74d55b3cbb21677a40bbe": {
      "model_module": "@jupyter-widgets/base",
      "model_module_version": "1.1.0",
      "model_name": "LayoutModel",
      "state": {}
     },
     "46bcea0c2657435787393f510996de9d": {
      "model_module": "@jupyter-widgets/controls",
      "model_module_version": "1.3.0",
      "model_name": "DescriptionStyleModel",
      "state": {
       "description_width": ""
      }
     },
     "4a75776753944e51985f2e084d5471a1": {
      "model_module": "@jupyter-widgets/controls",
      "model_module_version": "1.3.0",
      "model_name": "BoundedFloatTextModel",
      "state": {
       "description": "Voltage [V]",
       "layout": "IPY_MODEL_44b4873298d74d55b3cbb21677a40bbe",
       "max": 12,
       "min": 1,
       "step": 0.5,
       "style": "IPY_MODEL_218adc98a46840f187992a7cf937d578",
       "value": 10
      }
     },
     "4ae7cd6a7e2e49afafbb78b4c2cf835b": {
      "model_module": "@jupyter-widgets/controls",
      "model_module_version": "1.3.0",
      "model_name": "DescriptionStyleModel",
      "state": {
       "description_width": ""
      }
     },
     "53c9e9f7fb2341a1b3a9b53048cd620b": {
      "model_module": "@jupyter-widgets/base",
      "model_module_version": "1.1.0",
      "model_name": "LayoutModel",
      "state": {}
     },
     "555a46b11a574a70b801fbb207f57eff": {
      "model_module": "@jupyter-widgets/controls",
      "model_module_version": "1.3.0",
      "model_name": "DescriptionStyleModel",
      "state": {
       "description_width": ""
      }
     },
     "6142c9ce5b0d4960b237472afc95b441": {
      "model_module": "@jupyter-widgets/controls",
      "model_module_version": "1.3.0",
      "model_name": "BoundedFloatTextModel",
      "state": {
       "description": "Depth [cm]",
       "layout": "IPY_MODEL_03ecd1f4c5bf4d5c8305f2a96ec2ec99",
       "max": 2,
       "min": 0.1,
       "style": "IPY_MODEL_adbe9ec61f654e08a23b5c12ed71b5a0",
       "value": 1
      }
     },
     "63072b7e9b2a48caa3ff0b890211bb06": {
      "model_module": "@jupyter-widgets/output",
      "model_module_version": "1.0.0",
      "model_name": "OutputModel",
      "state": {
       "layout": "IPY_MODEL_4406f489252e4f8283d6c60a9630dd4f",
       "outputs": [
        {
         "name": "stdout",
         "output_type": "stream",
         "text": "Coil with     126 turns\nInductance    0.0034816 H\nResistance    1.9792034 Ohm\nTau           0.0017591 s\nYou will need 39.5840674 m of wire\nEnergy        0.0444391 J\n"
        }
       ]
      }
     },
     "775bc6c1bc0246649fd69374dd061357": {
      "model_module": "@jupyter-widgets/controls",
      "model_module_version": "1.3.0",
      "model_name": "BoundedFloatTextModel",
      "state": {
       "description": "Radius [cm]",
       "layout": "IPY_MODEL_b04e2401185c4392acc34c78d6f113f5",
       "max": 30,
       "min": 1,
       "step": null,
       "style": "IPY_MODEL_46bcea0c2657435787393f510996de9d",
       "value": 10.5
      }
     },
     "799111e913084307a3525230605a8a20": {
      "model_module": "@jupyter-widgets/controls",
      "model_module_version": "1.3.0",
      "model_name": "DescriptionStyleModel",
      "state": {
       "description_width": ""
      }
     },
     "8229a662bf8a4f8a92c0b1137ab57360": {
      "model_module": "@jupyter-widgets/controls",
      "model_module_version": "1.3.0",
      "model_name": "VBoxModel",
      "state": {
       "_dom_classes": [
        "widget-interact"
       ],
       "children": [
        "IPY_MODEL_b64948d2d5e04337b1cfc20ebfc77656",
        "IPY_MODEL_ff72d1f6ec464d0b927273fbfe217f31",
        "IPY_MODEL_775bc6c1bc0246649fd69374dd061357",
        "IPY_MODEL_6142c9ce5b0d4960b237472afc95b441",
        "IPY_MODEL_fccc09605e87482ba754c2100e762445",
        "IPY_MODEL_41f0658e41f348babb9b95fd4f4833d3"
       ],
       "layout": "IPY_MODEL_22887b2bff0d481e8d0bf98585b6d37b"
      }
     },
     "8e400aa88efa4cd49e17ee6205f17d92": {
      "model_module": "@jupyter-widgets/base",
      "model_module_version": "1.1.0",
      "model_name": "LayoutModel",
      "state": {}
     },
     "8fe88f781c2d43faa5836ed2ef117609": {
      "model_module": "@jupyter-widgets/base",
      "model_module_version": "1.1.0",
      "model_name": "LayoutModel",
      "state": {}
     },
     "9098b73667a84df0891578a3b278bd6d": {
      "model_module": "@jupyter-widgets/controls",
      "model_module_version": "1.3.0",
      "model_name": "BoundedFloatTextModel",
      "state": {
       "description": "Radius [cm]",
       "layout": "IPY_MODEL_8e400aa88efa4cd49e17ee6205f17d92",
       "max": 30,
       "min": 1,
       "step": null,
       "style": "IPY_MODEL_799111e913084307a3525230605a8a20",
       "value": 5
      }
     },
     "914de55cc0494dd0a9ec4facee9b5aa9": {
      "model_module": "@jupyter-widgets/controls",
      "model_module_version": "1.3.0",
      "model_name": "DescriptionStyleModel",
      "state": {
       "description_width": ""
      }
     },
     "a77ddb45764e45629fd37512f8f73c5c": {
      "model_module": "@jupyter-widgets/controls",
      "model_module_version": "1.3.0",
      "model_name": "BoundedFloatTextModel",
      "state": {
       "description": "Tau [ms]",
       "layout": "IPY_MODEL_385da51c766245f4be6675958e010a21",
       "max": 50,
       "min": 2,
       "step": null,
       "style": "IPY_MODEL_20557c08754f49f19138d304de46883f",
       "value": 2
      }
     },
     "adbe9ec61f654e08a23b5c12ed71b5a0": {
      "model_module": "@jupyter-widgets/controls",
      "model_module_version": "1.3.0",
      "model_name": "DescriptionStyleModel",
      "state": {
       "description_width": ""
      }
     },
     "af527668a7e448098b83d9c7bd307c6c": {
      "model_module": "@jupyter-widgets/controls",
      "model_module_version": "1.3.0",
      "model_name": "DropdownModel",
      "state": {
       "_options_labels": [
        "0",
        "1",
        "2",
        "3",
        "4",
        "5",
        "6",
        "7",
        "8",
        "9",
        "10",
        "11",
        "12",
        "13",
        "14",
        "15",
        "16",
        "17",
        "18",
        "19",
        "20",
        "21",
        "22",
        "23",
        "24",
        "25",
        "26",
        "27",
        "28",
        "29",
        "30",
        "31",
        "32",
        "33",
        "34",
        "35",
        "36",
        "37",
        "38",
        "39"
       ],
       "description": "AWG",
       "index": 22,
       "layout": "IPY_MODEL_1f207efc2cc945909f4902ab7c5a7468",
       "style": "IPY_MODEL_555a46b11a574a70b801fbb207f57eff"
      }
     },
     "b04e2401185c4392acc34c78d6f113f5": {
      "model_module": "@jupyter-widgets/base",
      "model_module_version": "1.1.0",
      "model_name": "LayoutModel",
      "state": {}
     },
     "b64948d2d5e04337b1cfc20ebfc77656": {
      "model_module": "@jupyter-widgets/controls",
      "model_module_version": "1.3.0",
      "model_name": "BoundedFloatTextModel",
      "state": {
       "description": "Tau [ms]",
       "layout": "IPY_MODEL_f35bab51c2464d218f19b041b4208ecd",
       "max": 50,
       "min": 1,
       "step": null,
       "style": "IPY_MODEL_914de55cc0494dd0a9ec4facee9b5aa9",
       "value": 2
      }
     },
     "bec8967238124bbabb0097cf858e11eb": {
      "model_module": "@jupyter-widgets/controls",
      "model_module_version": "1.3.0",
      "model_name": "DescriptionStyleModel",
      "state": {
       "description_width": ""
      }
     },
     "de740ef89a554e09b783394b85c85bcb": {
      "model_module": "@jupyter-widgets/base",
      "model_module_version": "1.1.0",
      "model_name": "LayoutModel",
      "state": {}
     },
     "e7db55a1fa0e4599be9e7d5543691c1d": {
      "model_module": "@jupyter-widgets/controls",
      "model_module_version": "1.3.0",
      "model_name": "DescriptionStyleModel",
      "state": {
       "description_width": ""
      }
     },
     "f35bab51c2464d218f19b041b4208ecd": {
      "model_module": "@jupyter-widgets/base",
      "model_module_version": "1.1.0",
      "model_name": "LayoutModel",
      "state": {}
     },
     "fccc09605e87482ba754c2100e762445": {
      "model_module": "@jupyter-widgets/controls",
      "model_module_version": "1.3.0",
      "model_name": "BoundedFloatTextModel",
      "state": {
       "description": "Voltage [V]",
       "layout": "IPY_MODEL_53c9e9f7fb2341a1b3a9b53048cd620b",
       "max": 12,
       "min": 1,
       "step": 0.5,
       "style": "IPY_MODEL_e7db55a1fa0e4599be9e7d5543691c1d",
       "value": 10
      }
     },
     "fcfdb056db6b45a08dde9beef28a1e28": {
      "model_module": "@jupyter-widgets/controls",
      "model_module_version": "1.3.0",
      "model_name": "VBoxModel",
      "state": {
       "_dom_classes": [
        "widget-interact"
       ],
       "children": [
        "IPY_MODEL_a77ddb45764e45629fd37512f8f73c5c",
        "IPY_MODEL_af527668a7e448098b83d9c7bd307c6c",
        "IPY_MODEL_9098b73667a84df0891578a3b278bd6d",
        "IPY_MODEL_1c4ec54003044e99b9c487f58202b3f0",
        "IPY_MODEL_4a75776753944e51985f2e084d5471a1",
        "IPY_MODEL_63072b7e9b2a48caa3ff0b890211bb06"
       ],
       "layout": "IPY_MODEL_8fe88f781c2d43faa5836ed2ef117609"
      }
     },
     "ff72d1f6ec464d0b927273fbfe217f31": {
      "model_module": "@jupyter-widgets/controls",
      "model_module_version": "1.3.0",
      "model_name": "DropdownModel",
      "state": {
       "_options_labels": [
        "0",
        "1",
        "2",
        "3",
        "4",
        "5",
        "6",
        "7",
        "8",
        "9",
        "10",
        "11",
        "12",
        "13",
        "14",
        "15",
        "16",
        "17",
        "18",
        "19",
        "20",
        "21",
        "22",
        "23",
        "24",
        "25",
        "26",
        "27",
        "28",
        "29",
        "30",
        "31",
        "32",
        "33",
        "34",
        "35",
        "36",
        "37",
        "38",
        "39"
       ],
       "description": "AWG",
       "index": 20,
       "layout": "IPY_MODEL_de740ef89a554e09b783394b85c85bcb",
       "style": "IPY_MODEL_4ae7cd6a7e2e49afafbb78b4c2cf835b"
      }
     }
    },
    "version_major": 2,
    "version_minor": 0
   }
  }
 },
 "nbformat": 4,
 "nbformat_minor": 2
}
