{
 "cells": [
  {
   "cell_type": "markdown",
   "metadata": {},
   "source": [
    "# EMI Metal Detector Design"
   ]
  },
  {
   "cell_type": "markdown",
   "metadata": {},
   "source": [
    "## Design constraints\n",
    "Mostly dictated by motor board. \n",
    "The goal being to reuse the motor board with minimum modifications to speed up the development.\n",
    "\n",
    "### Shunt resistor\n",
    "- R: 10m$\\Omega$\n",
    "\n",
    "### Op amp (INA282) \n",
    "- Bandwidth: 10kHZ\n",
    "- Gain: 50\n",
    "- Gain error: +/- 1.4%\n",
    "\n",
    "### ADC low pass\n",
    "- Cut-off: 4.7kHz"
   ]
  },
  {
   "cell_type": "markdown",
   "metadata": {},
   "source": [
    "## Coil design\n",
    "\n",
    "### Coil time constant\n",
    "A coil time constant is given by\n",
    "$$\\tau = \\frac{L}{R}$$\n",
    "\n",
    "Given limiting sampling frequency: 4.7kHz, by Shannon we can measure well up to 500Hz signals.\n",
    "\n",
    "Optimal coil time constant is \n",
    "$$\\tau_{optimal} \\approx \\frac{1}{500} \\approx 2ms$$\n",
    "\n",
    "### Cylindrical coil inductance\n",
    "A cylindrical coil inductance is given by\n",
    "$$L = \\frac{r^2 N^2}{20r + 28d}$$\n",
    "\n",
    "where \n",
    "- L is the inductance in $\\mu$H, \n",
    "- r is the mean radius in cm, \n",
    "- N is the number of turns, \n",
    "- d is depth of the coil (outer radius minus inner radius) in cm.\n",
    "\n",
    "Source: Spiral air coil formula https://en.wikipedia.org/wiki/Inductor#Inductance_formulas\n",
    "\n",
    "Converted to SI units ($H$ and $m$):\n",
    "$$L = 10^{-4} \\frac{r^2 N^2}{20r + 28d}$$\n",
    "\n",
    "### Cylidrical coil resistance\n",
    "Resistance is defined as\n",
    "$$R = \\frac{\\rho l}{A} = \\alpha l$$\n",
    "with $\\alpha = \\frac{\\rho}{A}$ the wire linear resistivity in $\\Omega$/m, where\n",
    "- $\\rho$ is the resistivity in $\\Omega$m\n",
    "- l the length of the wire in m\n",
    "- A the cross section of the wire in m$^2$\n",
    "\n",
    "For a cylindrical coil, the wire length is given by the product of the cylinder perimeter and the number of turns:\n",
    "$$l = 2 \\pi r N$$\n",
    "\n",
    "Such that the resistance of a cylindrical coil is\n",
    "$$R = 2 \\pi \\alpha r N $$\n",
    "\n",
    "### Coil time constant simplification\n",
    "Plugging the formulas from above in the RL circuit time constant we get\n",
    "$$\\tau = \\frac{L}{R} = \\frac{10^{-4}}{2\\pi} \\frac{r N}{\\alpha (20r + 28d)}$$\n",
    "\n",
    "For a big enough coil (r > 5cm), the depth of the coil $d$ is smaller than the coil radius $d << r$ so we can neglect in the formula, which yields the simplified version:\n",
    "$$\\tau \\approx \\frac{10^{-4}}{2\\pi} \\frac{r N}{20\\alpha r} = \\frac{10^{-5}}{4\\pi} \\frac{N}{\\alpha}$$\n",
    "\n",
    "The time constant now only depends on the number of turns $N$ and the linear resistivity of the wire $\\alpha$.\n",
    "These are our two design parameters to match the desired $\\tau_{optimal}$.\n",
    "\n",
    "### Fixing other parameters\n",
    "The depth of the coil should be kept minimal (<1cm) given the simplification done above.\n",
    "\n",
    "The radius of the coil determines what size of objects our detector will sense best.\n",
    "We want to detect Anti-Personal landmine size objects which range from 6cm to 14cm. So our coil should be in 14-30cm diameter range, so $r \\in [0.07, 0.15]$."
   ]
  },
  {
   "cell_type": "code",
   "execution_count": 7,
   "metadata": {},
   "outputs": [],
   "source": [
    "%matplotlib inline\n",
    "from math import *\n",
    "import numpy as np\n",
    "import matplotlib as pyplot\n",
    "AWG_LINEAR_RESISTIVITY = {'0': 0.00032, '1': 0.0004, '2': 0.0005, '3': 0.00064, '4': 0.0008, '5': 0.001, '6': 0.00125, '7': 0.0016, '8': 0.002, '9': 0.0025, '10': 0.0032, '11': 0.004, '12': 0.005, '13': 0.0064, '14': 0.008, '15': 0.01, '16': 0.0125, '17': 0.016, '18': 0.02, '19': 0.025, '20': 0.032, '21': 0.04, '22': 0.05, '23': 0.064, '24': 0.08, '25': 0.1, '26': 0.125, '27': 0.16, '28': 0.2, '29': 0.25, '30': 0.32, '31': 0.4, '32': 0.5, '33': 0.64, '34': 0.8, '35': 1, '36': 1.25, '37': 1.6, '38': 2, '39': 2.5}"
   ]
  },
  {
   "cell_type": "code",
   "execution_count": 40,
   "metadata": {},
   "outputs": [],
   "source": [
    "def coil_inductance(r, N, d):\n",
    "    return 1e-4 * ((r**2) * (N**2)) / (20 * r + 28 * d)\n",
    "\n",
    "def coil_length(r, N):\n",
    "    return 2 * pi * r * N\n",
    "\n",
    "def coil_resistance(r, N, alpha):\n",
    "    return coil_length(r, N) * alpha\n",
    "\n",
    "def coil_turn_count(tau, alpha): \n",
    "    return (4 * pi) * (1e5) * tau * alpha\n",
    "\n",
    "def design_coil(tau, awg, r = 0.07, d = 0.01):\n",
    "    alpha = AWG_LINEAR_RESISTIVITY[str(awg)]\n",
    "    N = round(coil_turn_count(tau, alpha))\n",
    "    L = coil_inductance(r, N, d)\n",
    "    R = coil_resistance(r, N, alpha)\n",
    "    return N, L, R, L/R, r"
   ]
  },
  {
   "cell_type": "code",
   "execution_count": 41,
   "metadata": {},
   "outputs": [
    {
     "name": "stdout",
     "output_type": "stream",
     "text": [
      "Coil with 201 turns\n",
      "Inductance 0.011783625 H\n",
      "Resistance 7.072353381761343 Ohm\n",
      "Tau 0.0016661533104932792 s\n",
      "You will need 88.40441727201679 m of wire\n"
     ]
    }
   ],
   "source": [
    "N, L, R, tau, r = design_coil(2e-3, 24)\n",
    "print('Coil with {} turns'.format(N))\n",
    "print('Inductance {} H'.format(L))\n",
    "print('Resistance {} Ohm'.format(R))\n",
    "print('Tau {} s'.format(tau))\n",
    "print('You will need {:} m of wire'.format(coil_length(r, N)))"
   ]
  },
  {
   "cell_type": "code",
   "execution_count": null,
   "metadata": {},
   "outputs": [],
   "source": []
  }
 ],
 "metadata": {
  "kernelspec": {
   "display_name": "Python 3",
   "language": "python",
   "name": "python3"
  },
  "language_info": {
   "codemirror_mode": {
    "name": "ipython",
    "version": 3
   },
   "file_extension": ".py",
   "mimetype": "text/x-python",
   "name": "python",
   "nbconvert_exporter": "python",
   "pygments_lexer": "ipython3",
   "version": "3.6.5"
  }
 },
 "nbformat": 4,
 "nbformat_minor": 2
}
