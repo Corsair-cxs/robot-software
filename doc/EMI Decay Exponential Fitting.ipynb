{
 "cells": [
  {
   "cell_type": "code",
   "execution_count": 59,
   "metadata": {},
   "outputs": [],
   "source": [
    "%matplotlib widget\n",
    "from math import *\n",
    "import numpy as np\n",
    "import matplotlib.pyplot as plt\n",
    "from ipywidgets import interact, interactive, fixed, interact_manual\n",
    "import ipywidgets as widgets"
   ]
  },
  {
   "cell_type": "code",
   "execution_count": 60,
   "metadata": {},
   "outputs": [],
   "source": [
    "def exponential_decay(amplitude, delay, decay):\n",
    "    return lambda t: amplitude if t < delay else amplitude * np.exp(- (t - delay) / decay)\n",
    "\n",
    "def sample(f, sample_count, sampling_frequency):\n",
    "    sampling_time = np.linspace(0, sample_count / sampling_frequency, sample_count)\n",
    "    samples = np.array([f(t) for t in sampling_time])\n",
    "    return sampling_time, samples"
   ]
  },
  {
   "cell_type": "code",
   "execution_count": 61,
   "metadata": {},
   "outputs": [
    {
     "data": {
      "application/vnd.jupyter.widget-view+json": {
       "model_id": "bc835e6bfead462baf7a964a979f263e",
       "version_major": 2,
       "version_minor": 0
      },
      "text/plain": [
       "interactive(children=(BoundedFloatText(value=1.0, description='Amplitude', max=10.0), BoundedFloatText(value=0…"
      ]
     },
     "metadata": {},
     "output_type": "display_data"
    }
   ],
   "source": [
    "def generate_sample(amplitude, delay, decay, n_samples=100):\n",
    "    f = exponential_decay(amplitude, delay, decay)\n",
    "    time, samples = sample(f, n_samples, 5000)\n",
    "    plt.clf()\n",
    "    plt.plot(time, samples)\n",
    "    plt.show()\n",
    "     \n",
    "interact(generate_sample, \n",
    "         amplitude=widgets.BoundedFloatText(value=1.0, min=0.0, max=10.0, description='Amplitude'), \n",
    "         delay=widgets.BoundedFloatText(value=0.002, min=0.0, max=2.0, description='Delay [s]'),\n",
    "         decay=widgets.BoundedFloatText(value=0.005, min=0.0, max=10.0, description='Tau [s]'),\n",
    "         n_samples=widgets.BoundedIntText(value=100, min=0, max=1000, description='# Samples'));"
   ]
  },
  {
   "cell_type": "code",
   "execution_count": null,
   "metadata": {},
   "outputs": [],
   "source": []
  },
  {
   "cell_type": "code",
   "execution_count": null,
   "metadata": {},
   "outputs": [],
   "source": []
  }
 ],
 "metadata": {
  "kernelspec": {
   "display_name": "Python 3",
   "language": "python",
   "name": "python3"
  },
  "language_info": {
   "codemirror_mode": {
    "name": "ipython",
    "version": 3
   },
   "file_extension": ".py",
   "mimetype": "text/x-python",
   "name": "python",
   "nbconvert_exporter": "python",
   "pygments_lexer": "ipython3",
   "version": "3.6.5"
  }
 },
 "nbformat": 4,
 "nbformat_minor": 2
}
