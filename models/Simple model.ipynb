{
 "cells": [
  {
   "cell_type": "markdown",
   "metadata": {},
   "source": [
    "# Simple model\n",
    "\n",
    "Assumptions:\n",
    "* 2D motion\n",
    "* Inertial frame == World frame"
   ]
  },
  {
   "cell_type": "code",
   "execution_count": 14,
   "metadata": {},
   "outputs": [],
   "source": [
    "import sympy as sp"
   ]
  },
  {
   "cell_type": "code",
   "execution_count": 15,
   "metadata": {},
   "outputs": [],
   "source": [
    "sp.init_printing()"
   ]
  },
  {
   "cell_type": "code",
   "execution_count": 16,
   "metadata": {},
   "outputs": [],
   "source": [
    "x, y, xdot, ydot, theta = sp.symbols('x y v_x v_y theta')\n",
    "state = [x, y, theta, xdot, ydot]\n",
    "a_x, a_y = sp.symbols('a_x a_y') # in body frame"
   ]
  },
  {
   "cell_type": "code",
   "execution_count": 17,
   "metadata": {},
   "outputs": [
    {
     "data": {
      "image/png": "[encoded data removed]",
      "text/latex": [
       "$$\\left[\\begin{matrix}v_{x}\\\\v_{y}\\\\0\\\\a_{x} \\cos{\\left (\\theta \\right )} - a_{y} \\sin{\\left (\\theta \\right )}\\\\a_{x} \\sin{\\left (\\theta \\right )} + a_{y} \\cos{\\left (\\theta \\right )}\\end{matrix}\\right]$$"
      ],
      "text/plain": [
       "⎡          vₓ          ⎤\n",
       "⎢                      ⎥\n",
       "⎢         v_y          ⎥\n",
       "⎢                      ⎥\n",
       "⎢          0           ⎥\n",
       "⎢                      ⎥\n",
       "⎢aₓ⋅cos(θ) - a_y⋅sin(θ)⎥\n",
       "⎢                      ⎥\n",
       "⎣aₓ⋅sin(θ) + a_y⋅cos(θ)⎦"
      ]
     },
     "execution_count": 17,
     "metadata": {},
     "output_type": "execute_result"
    }
   ],
   "source": [
    "g = sp.Matrix([xdot, ydot, 0, sp.cos(theta) * a_x - sp.sin(theta) * a_y, sp.sin(theta) * a_x + sp.cos(theta) * a_y])\n",
    "g.transpose()\n",
    "g"
   ]
  },
  {
   "cell_type": "code",
   "execution_count": 18,
   "metadata": {},
   "outputs": [
    {
     "data": {
      "image/png": "[encoded data removed]",
      "text/latex": [
       "$$\\left[\\begin{matrix}0 & 0 & 0 & 1 & 0\\\\0 & 0 & 0 & 0 & 1\\\\0 & 0 & 0 & 0 & 0\\\\0 & 0 & - a_{x} \\sin{\\left (\\theta \\right )} - a_{y} \\cos{\\left (\\theta \\right )} & 0 & 0\\\\0 & 0 & a_{x} \\cos{\\left (\\theta \\right )} - a_{y} \\sin{\\left (\\theta \\right )} & 0 & 0\\end{matrix}\\right]$$"
      ],
      "text/plain": [
       "⎡0  0             0             1  0⎤\n",
       "⎢                                   ⎥\n",
       "⎢0  0             0             0  1⎥\n",
       "⎢                                   ⎥\n",
       "⎢0  0             0             0  0⎥\n",
       "⎢                                   ⎥\n",
       "⎢0  0  -aₓ⋅sin(θ) - a_y⋅cos(θ)  0  0⎥\n",
       "⎢                                   ⎥\n",
       "⎣0  0  aₓ⋅cos(θ) - a_y⋅sin(θ)   0  0⎦"
      ]
     },
     "execution_count": 18,
     "metadata": {},
     "output_type": "execute_result"
    }
   ],
   "source": [
    "G = g.jacobian(state)\n",
    "G"
   ]
  },
  {
   "cell_type": "markdown",
   "metadata": {},
   "source": [
    "# Measurements"
   ]
  },
  {
   "cell_type": "code",
   "execution_count": 49,
   "metadata": {},
   "outputs": [
    {
     "data": {
      "image/png": "[encoded data removed]",
      "text/latex": [
       "$$\\left[\\begin{matrix}\\theta\\end{matrix}\\right]$$"
      ],
      "text/plain": [
       "[θ]"
      ]
     },
     "execution_count": 49,
     "metadata": {},
     "output_type": "execute_result"
    }
   ],
   "source": [
    "h_dmp = sp.Matrix([theta])\n",
    "h_dmp"
   ]
  },
  {
   "cell_type": "code",
   "execution_count": 50,
   "metadata": {},
   "outputs": [
    {
     "data": {
      "image/png": "[encoded data removed]",
      "text/latex": [
       "$$\\left[\\begin{matrix}0 & 0 & 1 & 0 & 0\\end{matrix}\\right]$$"
      ],
      "text/plain": [
       "[0  0  1  0  0]"
      ]
     },
     "execution_count": 50,
     "metadata": {},
     "output_type": "execute_result"
    }
   ],
   "source": [
    "H_dmp = h_dmp.jacobian(state)\n",
    "H_dmp"
   ]
  },
  {
   "cell_type": "code",
   "execution_count": 46,
   "metadata": {},
   "outputs": [
    {
     "data": {
      "image/png": "[encoded data removed]",
      "text/latex": [
       "$$\\left[\\begin{matrix}\\sqrt{\\left(- b_{x} + x\\right)^{2} + \\left(- b_{y} + y\\right)^{2}}\\end{matrix}\\right]$$"
      ],
      "text/plain": [
       "⎡   __________________________⎤\n",
       "⎢  ╱          2             2 ⎥\n",
       "⎣╲╱  (-bₓ + x)  + (-b_y + y)  ⎦"
      ]
     },
     "execution_count": 46,
     "metadata": {},
     "output_type": "execute_result"
    }
   ],
   "source": [
    "# Generate the measurement function for beacons\n",
    "b_x, b_y = sp.symbols('b_x b_y') # beacon position\n",
    "h_b = sp.Matrix([sp.sqrt((x - b_x)**2 + (y - b_y)**2)])\n",
    "h_b"
   ]
  },
  {
   "cell_type": "code",
   "execution_count": 56,
   "metadata": {},
   "outputs": [
    {
     "data": {
      "image/png": "[encoded data removed]",
      "text/latex": [
       "$$\\left[\\begin{matrix}\\frac{- b_{x} + x}{\\sqrt{\\left(- b_{x} + x\\right)^{2} + \\left(- b_{y} + y\\right)^{2}}} & \\frac{- b_{y} + y}{\\sqrt{\\left(- b_{x} + x\\right)^{2} + \\left(- b_{y} + y\\right)^{2}}} & 0 & 0 & 0\\end{matrix}\\right]$$"
      ],
      "text/plain": [
       "⎡           -bₓ + x                        -b_y + y                   ⎤\n",
       "⎢─────────────────────────────  ─────────────────────────────  0  0  0⎥\n",
       "⎢   __________________________     __________________________         ⎥\n",
       "⎢  ╱          2             2     ╱          2             2          ⎥\n",
       "⎣╲╱  (-bₓ + x)  + (-b_y + y)    ╲╱  (-bₓ + x)  + (-b_y + y)           ⎦"
      ]
     },
     "execution_count": 56,
     "metadata": {},
     "output_type": "execute_result"
    }
   ],
   "source": [
    "H_b = h_b.jacobian(state)\n",
    "H_b"
   ]
  },
  {
   "cell_type": "markdown",
   "metadata": {},
   "source": [
    "# Evaluation of the performances"
   ]
  }
 ],
 "metadata": {
  "kernelspec": {
   "display_name": "Python 3",
   "language": "python",
   "name": "python3"
  },
  "language_info": {
   "codemirror_mode": {
    "name": "ipython",
    "version": 3
   },
   "file_extension": ".py",
   "mimetype": "text/x-python",
   "name": "python",
   "nbconvert_exporter": "python",
   "pygments_lexer": "ipython3",
   "version": "3.6.2"
  }
 },
 "nbformat": 4,
 "nbformat_minor": 2
}
